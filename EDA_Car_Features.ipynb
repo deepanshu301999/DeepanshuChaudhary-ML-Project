{
  "nbformat": 4,
  "nbformat_minor": 0,
  "metadata": {
    "colab": {
      "name": "EDA_Car_Features.ipynb",
      "provenance": [],
      "collapsed_sections": [],
      "toc_visible": true,
      "authorship_tag": "ABX9TyNYoDAw0CptXZ7rLPBccvhv",
      "include_colab_link": true
    },
    "kernelspec": {
      "name": "python3",
      "display_name": "Python 3"
    }
  },
  "cells": [
    {
      "cell_type": "markdown",
      "metadata": {
        "id": "view-in-github",
        "colab_type": "text"
      },
      "source": [
        "<a href=\"https://colab.research.google.com/github/deepanshu301999/DeepanshuChaudhary-ML-Project/blob/master/EDA_Car_Features.ipynb\" target=\"_parent\"><img src=\"https://colab.research.google.com/assets/colab-badge.svg\" alt=\"Open In Colab\"/></a>"
      ]
    },
    {
      "cell_type": "markdown",
      "metadata": {
        "id": "uYVsGoNKEKi7",
        "colab_type": "text"
      },
      "source": [
        "# Exploratory Data Analysis of Car Features"
      ]
    },
    {
      "cell_type": "markdown",
      "metadata": {
        "id": "-GDoLoOPEx77",
        "colab_type": "text"
      },
      "source": [
        "![EDA.png](data:image/png;base64,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)"
      ]
    },
    {
      "cell_type": "markdown",
      "metadata": {
        "id": "NCNcZzM_FXIF",
        "colab_type": "text"
      },
      "source": [
        "**Objective**\n",
        "\n",
        "The objective of the project is to do data pre-processing and exploratory data analysis of the dataset Car Features.\n",
        "\n",
        "In this project, Exploratory data analysis is performed on how the different features of a car and its price are related. The dataset describes almost 12,000 car models, sold in the USA between 1990 and 2017, with the market price(new or used) and some features.\n",
        "\n",
        "Exploratory Data Analysis:-\n",
        "\n",
        "Exploratory Data Analysis or (EDA) is understanding the data sets by summarizing their main characteristics often plotting them visually. This step is very important especially when we arrive at modeling the data in order to apply Machine learning. \n",
        "\n",
        "The Data Description is as follows-\n",
        "Make(Car Make), Model(Car Model), Year(Car Year(Marketing)), Engine Fuel Type, Engine HP(Engine HorsePower(HP)), Engine Cylinders,Transmission Type, Driven_Wheels, Number of Doors, Market Category, Vehicle Size, Vehicle Style(Type), highway MPG, city mpg, Popularit,(Twitter), MSRP(Manufacturer Suggested Retail Price).\n",
        "\n",
        "The Project is described in step by step manner below-:"
      ]
    },
    {
      "cell_type": "markdown",
      "metadata": {
        "id": "aOx7ruR3tXOb",
        "colab_type": "text"
      },
      "source": [
        "# Step1\n",
        "Importing the dataset and the necessary libraries, checking datatype, statistical summary, shape, null values etc."
      ]
    },
    {
      "cell_type": "markdown",
      "metadata": {
        "id": "3GYlDxboGjyA",
        "colab_type": "text"
      },
      "source": [
        "# 1.1 Importing the required libraries and dataset"
      ]
    },
    {
      "cell_type": "code",
      "metadata": {
        "id": "SYl4-COxGx7s",
        "colab_type": "code",
        "colab": {
          "base_uri": "https://localhost:8080/",
          "height": 70
        },
        "outputId": "7b27c377-d8b2-4f8d-c23c-f8c00251dbc8"
      },
      "source": [
        "# Importing required libraries.\n",
        "import pandas as pd\n",
        "import numpy as np\n",
        "import seaborn as sns #visualisation\n",
        "import matplotlib.pyplot as plt #visualisation\n",
        "%matplotlib inline \n",
        "sns.set(color_codes=True)"
      ],
      "execution_count": 1,
      "outputs": [
        {
          "output_type": "stream",
          "text": [
            "/usr/local/lib/python3.6/dist-packages/statsmodels/tools/_testing.py:19: FutureWarning: pandas.util.testing is deprecated. Use the functions in the public API at pandas.testing instead.\n",
            "  import pandas.util.testing as tm\n"
          ],
          "name": "stderr"
        }
      ]
    },
    {
      "cell_type": "code",
      "metadata": {
        "id": "tvmiNhChIBl1",
        "colab_type": "code",
        "colab": {}
      },
      "source": [
        "#Importing the dataset.\n",
        "df=pd.read_csv('data.csv')"
      ],
      "execution_count": 2,
      "outputs": []
    },
    {
      "cell_type": "markdown",
      "metadata": {
        "id": "lnP5T17Ls2_V",
        "colab_type": "text"
      },
      "source": [
        "# 1.2 Checking the dataset and datatype"
      ]
    },
    {
      "cell_type": "markdown",
      "metadata": {
        "id": "a1LZK9MXPObM",
        "colab_type": "text"
      },
      "source": [
        "We randomly see the first five and last five rows."
      ]
    },
    {
      "cell_type": "code",
      "metadata": {
        "id": "vvTTqD-Js1qE",
        "colab_type": "code",
        "colab": {
          "base_uri": "https://localhost:8080/",
          "height": 417
        },
        "outputId": "546ebdff-67d8-4fef-db41-197eba715f70"
      },
      "source": [
        "# To display the top 5 rows\n",
        "df.head(5)"
      ],
      "execution_count": 3,
      "outputs": [
        {
          "output_type": "execute_result",
          "data": {
            "text/html": [
              "<div>\n",
              "<style scoped>\n",
              "    .dataframe tbody tr th:only-of-type {\n",
              "        vertical-align: middle;\n",
              "    }\n",
              "\n",
              "    .dataframe tbody tr th {\n",
              "        vertical-align: top;\n",
              "    }\n",
              "\n",
              "    .dataframe thead th {\n",
              "        text-align: right;\n",
              "    }\n",
              "</style>\n",
              "<table border=\"1\" class=\"dataframe\">\n",
              "  <thead>\n",
              "    <tr style=\"text-align: right;\">\n",
              "      <th></th>\n",
              "      <th>Make</th>\n",
              "      <th>Model</th>\n",
              "      <th>Year</th>\n",
              "      <th>Engine Fuel Type</th>\n",
              "      <th>Engine HP</th>\n",
              "      <th>Engine Cylinders</th>\n",
              "      <th>Transmission Type</th>\n",
              "      <th>Driven_Wheels</th>\n",
              "      <th>Number of Doors</th>\n",
              "      <th>Market Category</th>\n",
              "      <th>Vehicle Size</th>\n",
              "      <th>Vehicle Style</th>\n",
              "      <th>highway MPG</th>\n",
              "      <th>city mpg</th>\n",
              "      <th>Popularity</th>\n",
              "      <th>MSRP</th>\n",
              "    </tr>\n",
              "  </thead>\n",
              "  <tbody>\n",
              "    <tr>\n",
              "      <th>0</th>\n",
              "      <td>BMW</td>\n",
              "      <td>1 Series M</td>\n",
              "      <td>2011</td>\n",
              "      <td>premium unleaded (required)</td>\n",
              "      <td>335.0</td>\n",
              "      <td>6.0</td>\n",
              "      <td>MANUAL</td>\n",
              "      <td>rear wheel drive</td>\n",
              "      <td>2.0</td>\n",
              "      <td>Factory Tuner,Luxury,High-Performance</td>\n",
              "      <td>Compact</td>\n",
              "      <td>Coupe</td>\n",
              "      <td>26</td>\n",
              "      <td>19</td>\n",
              "      <td>3916</td>\n",
              "      <td>46135</td>\n",
              "    </tr>\n",
              "    <tr>\n",
              "      <th>1</th>\n",
              "      <td>BMW</td>\n",
              "      <td>1 Series</td>\n",
              "      <td>2011</td>\n",
              "      <td>premium unleaded (required)</td>\n",
              "      <td>300.0</td>\n",
              "      <td>6.0</td>\n",
              "      <td>MANUAL</td>\n",
              "      <td>rear wheel drive</td>\n",
              "      <td>2.0</td>\n",
              "      <td>Luxury,Performance</td>\n",
              "      <td>Compact</td>\n",
              "      <td>Convertible</td>\n",
              "      <td>28</td>\n",
              "      <td>19</td>\n",
              "      <td>3916</td>\n",
              "      <td>40650</td>\n",
              "    </tr>\n",
              "    <tr>\n",
              "      <th>2</th>\n",
              "      <td>BMW</td>\n",
              "      <td>1 Series</td>\n",
              "      <td>2011</td>\n",
              "      <td>premium unleaded (required)</td>\n",
              "      <td>300.0</td>\n",
              "      <td>6.0</td>\n",
              "      <td>MANUAL</td>\n",
              "      <td>rear wheel drive</td>\n",
              "      <td>2.0</td>\n",
              "      <td>Luxury,High-Performance</td>\n",
              "      <td>Compact</td>\n",
              "      <td>Coupe</td>\n",
              "      <td>28</td>\n",
              "      <td>20</td>\n",
              "      <td>3916</td>\n",
              "      <td>36350</td>\n",
              "    </tr>\n",
              "    <tr>\n",
              "      <th>3</th>\n",
              "      <td>BMW</td>\n",
              "      <td>1 Series</td>\n",
              "      <td>2011</td>\n",
              "      <td>premium unleaded (required)</td>\n",
              "      <td>230.0</td>\n",
              "      <td>6.0</td>\n",
              "      <td>MANUAL</td>\n",
              "      <td>rear wheel drive</td>\n",
              "      <td>2.0</td>\n",
              "      <td>Luxury,Performance</td>\n",
              "      <td>Compact</td>\n",
              "      <td>Coupe</td>\n",
              "      <td>28</td>\n",
              "      <td>18</td>\n",
              "      <td>3916</td>\n",
              "      <td>29450</td>\n",
              "    </tr>\n",
              "    <tr>\n",
              "      <th>4</th>\n",
              "      <td>BMW</td>\n",
              "      <td>1 Series</td>\n",
              "      <td>2011</td>\n",
              "      <td>premium unleaded (required)</td>\n",
              "      <td>230.0</td>\n",
              "      <td>6.0</td>\n",
              "      <td>MANUAL</td>\n",
              "      <td>rear wheel drive</td>\n",
              "      <td>2.0</td>\n",
              "      <td>Luxury</td>\n",
              "      <td>Compact</td>\n",
              "      <td>Convertible</td>\n",
              "      <td>28</td>\n",
              "      <td>18</td>\n",
              "      <td>3916</td>\n",
              "      <td>34500</td>\n",
              "    </tr>\n",
              "  </tbody>\n",
              "</table>\n",
              "</div>"
            ],
            "text/plain": [
              "  Make       Model  Year  ... city mpg  Popularity   MSRP\n",
              "0  BMW  1 Series M  2011  ...       19        3916  46135\n",
              "1  BMW    1 Series  2011  ...       19        3916  40650\n",
              "2  BMW    1 Series  2011  ...       20        3916  36350\n",
              "3  BMW    1 Series  2011  ...       18        3916  29450\n",
              "4  BMW    1 Series  2011  ...       18        3916  34500\n",
              "\n",
              "[5 rows x 16 columns]"
            ]
          },
          "metadata": {
            "tags": []
          },
          "execution_count": 3
        }
      ]
    },
    {
      "cell_type": "code",
      "metadata": {
        "id": "h1z0VWS8IDWP",
        "colab_type": "code",
        "colab": {
          "base_uri": "https://localhost:8080/",
          "height": 400
        },
        "outputId": "1244ad08-16b3-46bb-d82b-825f9732b885"
      },
      "source": [
        "# To display the bottom 5 rows\n",
        "df.tail(5) "
      ],
      "execution_count": 4,
      "outputs": [
        {
          "output_type": "execute_result",
          "data": {
            "text/html": [
              "<div>\n",
              "<style scoped>\n",
              "    .dataframe tbody tr th:only-of-type {\n",
              "        vertical-align: middle;\n",
              "    }\n",
              "\n",
              "    .dataframe tbody tr th {\n",
              "        vertical-align: top;\n",
              "    }\n",
              "\n",
              "    .dataframe thead th {\n",
              "        text-align: right;\n",
              "    }\n",
              "</style>\n",
              "<table border=\"1\" class=\"dataframe\">\n",
              "  <thead>\n",
              "    <tr style=\"text-align: right;\">\n",
              "      <th></th>\n",
              "      <th>Make</th>\n",
              "      <th>Model</th>\n",
              "      <th>Year</th>\n",
              "      <th>Engine Fuel Type</th>\n",
              "      <th>Engine HP</th>\n",
              "      <th>Engine Cylinders</th>\n",
              "      <th>Transmission Type</th>\n",
              "      <th>Driven_Wheels</th>\n",
              "      <th>Number of Doors</th>\n",
              "      <th>Market Category</th>\n",
              "      <th>Vehicle Size</th>\n",
              "      <th>Vehicle Style</th>\n",
              "      <th>highway MPG</th>\n",
              "      <th>city mpg</th>\n",
              "      <th>Popularity</th>\n",
              "      <th>MSRP</th>\n",
              "    </tr>\n",
              "  </thead>\n",
              "  <tbody>\n",
              "    <tr>\n",
              "      <th>11909</th>\n",
              "      <td>Acura</td>\n",
              "      <td>ZDX</td>\n",
              "      <td>2012</td>\n",
              "      <td>premium unleaded (required)</td>\n",
              "      <td>300.0</td>\n",
              "      <td>6.0</td>\n",
              "      <td>AUTOMATIC</td>\n",
              "      <td>all wheel drive</td>\n",
              "      <td>4.0</td>\n",
              "      <td>Crossover,Hatchback,Luxury</td>\n",
              "      <td>Midsize</td>\n",
              "      <td>4dr Hatchback</td>\n",
              "      <td>23</td>\n",
              "      <td>16</td>\n",
              "      <td>204</td>\n",
              "      <td>46120</td>\n",
              "    </tr>\n",
              "    <tr>\n",
              "      <th>11910</th>\n",
              "      <td>Acura</td>\n",
              "      <td>ZDX</td>\n",
              "      <td>2012</td>\n",
              "      <td>premium unleaded (required)</td>\n",
              "      <td>300.0</td>\n",
              "      <td>6.0</td>\n",
              "      <td>AUTOMATIC</td>\n",
              "      <td>all wheel drive</td>\n",
              "      <td>4.0</td>\n",
              "      <td>Crossover,Hatchback,Luxury</td>\n",
              "      <td>Midsize</td>\n",
              "      <td>4dr Hatchback</td>\n",
              "      <td>23</td>\n",
              "      <td>16</td>\n",
              "      <td>204</td>\n",
              "      <td>56670</td>\n",
              "    </tr>\n",
              "    <tr>\n",
              "      <th>11911</th>\n",
              "      <td>Acura</td>\n",
              "      <td>ZDX</td>\n",
              "      <td>2012</td>\n",
              "      <td>premium unleaded (required)</td>\n",
              "      <td>300.0</td>\n",
              "      <td>6.0</td>\n",
              "      <td>AUTOMATIC</td>\n",
              "      <td>all wheel drive</td>\n",
              "      <td>4.0</td>\n",
              "      <td>Crossover,Hatchback,Luxury</td>\n",
              "      <td>Midsize</td>\n",
              "      <td>4dr Hatchback</td>\n",
              "      <td>23</td>\n",
              "      <td>16</td>\n",
              "      <td>204</td>\n",
              "      <td>50620</td>\n",
              "    </tr>\n",
              "    <tr>\n",
              "      <th>11912</th>\n",
              "      <td>Acura</td>\n",
              "      <td>ZDX</td>\n",
              "      <td>2013</td>\n",
              "      <td>premium unleaded (recommended)</td>\n",
              "      <td>300.0</td>\n",
              "      <td>6.0</td>\n",
              "      <td>AUTOMATIC</td>\n",
              "      <td>all wheel drive</td>\n",
              "      <td>4.0</td>\n",
              "      <td>Crossover,Hatchback,Luxury</td>\n",
              "      <td>Midsize</td>\n",
              "      <td>4dr Hatchback</td>\n",
              "      <td>23</td>\n",
              "      <td>16</td>\n",
              "      <td>204</td>\n",
              "      <td>50920</td>\n",
              "    </tr>\n",
              "    <tr>\n",
              "      <th>11913</th>\n",
              "      <td>Lincoln</td>\n",
              "      <td>Zephyr</td>\n",
              "      <td>2006</td>\n",
              "      <td>regular unleaded</td>\n",
              "      <td>221.0</td>\n",
              "      <td>6.0</td>\n",
              "      <td>AUTOMATIC</td>\n",
              "      <td>front wheel drive</td>\n",
              "      <td>4.0</td>\n",
              "      <td>Luxury</td>\n",
              "      <td>Midsize</td>\n",
              "      <td>Sedan</td>\n",
              "      <td>26</td>\n",
              "      <td>17</td>\n",
              "      <td>61</td>\n",
              "      <td>28995</td>\n",
              "    </tr>\n",
              "  </tbody>\n",
              "</table>\n",
              "</div>"
            ],
            "text/plain": [
              "          Make   Model  Year  ... city mpg  Popularity   MSRP\n",
              "11909    Acura     ZDX  2012  ...       16         204  46120\n",
              "11910    Acura     ZDX  2012  ...       16         204  56670\n",
              "11911    Acura     ZDX  2012  ...       16         204  50620\n",
              "11912    Acura     ZDX  2013  ...       16         204  50920\n",
              "11913  Lincoln  Zephyr  2006  ...       17          61  28995\n",
              "\n",
              "[5 rows x 16 columns]"
            ]
          },
          "metadata": {
            "tags": []
          },
          "execution_count": 4
        }
      ]
    },
    {
      "cell_type": "markdown",
      "metadata": {
        "id": "wtbNourQPBnp",
        "colab_type": "text"
      },
      "source": [
        "Here we check for the datatypes because sometimes the MSRP or the price of the car would be stored as a string, if in that case, we have to convert that string to the integer data only then we can plot the data via a graph. Here, in this case, the data is already in integer format so nothing to worry."
      ]
    },
    {
      "cell_type": "code",
      "metadata": {
        "id": "pSg9MprKv18k",
        "colab_type": "code",
        "colab": {
          "base_uri": "https://localhost:8080/",
          "height": 302
        },
        "outputId": "ccf68be4-b64d-466b-8535-7e6444f58743"
      },
      "source": [
        "# Checking the data type\n",
        "df.dtypes"
      ],
      "execution_count": 7,
      "outputs": [
        {
          "output_type": "execute_result",
          "data": {
            "text/plain": [
              "Make                  object\n",
              "Model                 object\n",
              "Year                   int64\n",
              "Engine Fuel Type      object\n",
              "Engine HP            float64\n",
              "Engine Cylinders     float64\n",
              "Transmission Type     object\n",
              "Driven_Wheels         object\n",
              "Number of Doors      float64\n",
              "Market Category       object\n",
              "Vehicle Size          object\n",
              "Vehicle Style         object\n",
              "highway MPG            int64\n",
              "city mpg               int64\n",
              "Popularity             int64\n",
              "MSRP                   int64\n",
              "dtype: object"
            ]
          },
          "metadata": {
            "tags": []
          },
          "execution_count": 7
        }
      ]
    },
    {
      "cell_type": "code",
      "metadata": {
        "id": "mUhuOnToOFBG",
        "colab_type": "code",
        "colab": {
          "base_uri": "https://localhost:8080/",
          "height": 403
        },
        "outputId": "3651a822-7aff-4590-fea5-027b14fd2d54"
      },
      "source": [
        "df.info()"
      ],
      "execution_count": 8,
      "outputs": [
        {
          "output_type": "stream",
          "text": [
            "<class 'pandas.core.frame.DataFrame'>\n",
            "RangeIndex: 11914 entries, 0 to 11913\n",
            "Data columns (total 16 columns):\n",
            " #   Column             Non-Null Count  Dtype  \n",
            "---  ------             --------------  -----  \n",
            " 0   Make               11914 non-null  object \n",
            " 1   Model              11914 non-null  object \n",
            " 2   Year               11914 non-null  int64  \n",
            " 3   Engine Fuel Type   11911 non-null  object \n",
            " 4   Engine HP          11845 non-null  float64\n",
            " 5   Engine Cylinders   11884 non-null  float64\n",
            " 6   Transmission Type  11914 non-null  object \n",
            " 7   Driven_Wheels      11914 non-null  object \n",
            " 8   Number of Doors    11908 non-null  float64\n",
            " 9   Market Category    8172 non-null   object \n",
            " 10  Vehicle Size       11914 non-null  object \n",
            " 11  Vehicle Style      11914 non-null  object \n",
            " 12  highway MPG        11914 non-null  int64  \n",
            " 13  city mpg           11914 non-null  int64  \n",
            " 14  Popularity         11914 non-null  int64  \n",
            " 15  MSRP               11914 non-null  int64  \n",
            "dtypes: float64(3), int64(5), object(8)\n",
            "memory usage: 1.5+ MB\n"
          ],
          "name": "stdout"
        }
      ]
    },
    {
      "cell_type": "markdown",
      "metadata": {
        "id": "Pw6q1bbIN0a3",
        "colab_type": "text"
      },
      "source": [
        "# 1.3 Checking Statistical summary, shape, null values"
      ]
    },
    {
      "cell_type": "markdown",
      "metadata": {
        "id": "lt69Ng1-UnDi",
        "colab_type": "text"
      },
      "source": [
        "These are some statistics of the dataset which tell us the information of data."
      ]
    },
    {
      "cell_type": "code",
      "metadata": {
        "id": "1AWtCBK1Kr1N",
        "colab_type": "code",
        "colab": {
          "base_uri": "https://localhost:8080/",
          "height": 284
        },
        "outputId": "7dcd8a8b-60ba-4e4e-bba6-c29b47a8463d"
      },
      "source": [
        "#statistical summary of various columns of dataset\n",
        "df.describe()"
      ],
      "execution_count": 9,
      "outputs": [
        {
          "output_type": "execute_result",
          "data": {
            "text/html": [
              "<div>\n",
              "<style scoped>\n",
              "    .dataframe tbody tr th:only-of-type {\n",
              "        vertical-align: middle;\n",
              "    }\n",
              "\n",
              "    .dataframe tbody tr th {\n",
              "        vertical-align: top;\n",
              "    }\n",
              "\n",
              "    .dataframe thead th {\n",
              "        text-align: right;\n",
              "    }\n",
              "</style>\n",
              "<table border=\"1\" class=\"dataframe\">\n",
              "  <thead>\n",
              "    <tr style=\"text-align: right;\">\n",
              "      <th></th>\n",
              "      <th>Year</th>\n",
              "      <th>Engine HP</th>\n",
              "      <th>Engine Cylinders</th>\n",
              "      <th>Number of Doors</th>\n",
              "      <th>highway MPG</th>\n",
              "      <th>city mpg</th>\n",
              "      <th>Popularity</th>\n",
              "      <th>MSRP</th>\n",
              "    </tr>\n",
              "  </thead>\n",
              "  <tbody>\n",
              "    <tr>\n",
              "      <th>count</th>\n",
              "      <td>11914.000000</td>\n",
              "      <td>11845.00000</td>\n",
              "      <td>11884.000000</td>\n",
              "      <td>11908.000000</td>\n",
              "      <td>11914.000000</td>\n",
              "      <td>11914.000000</td>\n",
              "      <td>11914.000000</td>\n",
              "      <td>1.191400e+04</td>\n",
              "    </tr>\n",
              "    <tr>\n",
              "      <th>mean</th>\n",
              "      <td>2010.384338</td>\n",
              "      <td>249.38607</td>\n",
              "      <td>5.628829</td>\n",
              "      <td>3.436093</td>\n",
              "      <td>26.637485</td>\n",
              "      <td>19.733255</td>\n",
              "      <td>1554.911197</td>\n",
              "      <td>4.059474e+04</td>\n",
              "    </tr>\n",
              "    <tr>\n",
              "      <th>std</th>\n",
              "      <td>7.579740</td>\n",
              "      <td>109.19187</td>\n",
              "      <td>1.780559</td>\n",
              "      <td>0.881315</td>\n",
              "      <td>8.863001</td>\n",
              "      <td>8.987798</td>\n",
              "      <td>1441.855347</td>\n",
              "      <td>6.010910e+04</td>\n",
              "    </tr>\n",
              "    <tr>\n",
              "      <th>min</th>\n",
              "      <td>1990.000000</td>\n",
              "      <td>55.00000</td>\n",
              "      <td>0.000000</td>\n",
              "      <td>2.000000</td>\n",
              "      <td>12.000000</td>\n",
              "      <td>7.000000</td>\n",
              "      <td>2.000000</td>\n",
              "      <td>2.000000e+03</td>\n",
              "    </tr>\n",
              "    <tr>\n",
              "      <th>25%</th>\n",
              "      <td>2007.000000</td>\n",
              "      <td>170.00000</td>\n",
              "      <td>4.000000</td>\n",
              "      <td>2.000000</td>\n",
              "      <td>22.000000</td>\n",
              "      <td>16.000000</td>\n",
              "      <td>549.000000</td>\n",
              "      <td>2.100000e+04</td>\n",
              "    </tr>\n",
              "    <tr>\n",
              "      <th>50%</th>\n",
              "      <td>2015.000000</td>\n",
              "      <td>227.00000</td>\n",
              "      <td>6.000000</td>\n",
              "      <td>4.000000</td>\n",
              "      <td>26.000000</td>\n",
              "      <td>18.000000</td>\n",
              "      <td>1385.000000</td>\n",
              "      <td>2.999500e+04</td>\n",
              "    </tr>\n",
              "    <tr>\n",
              "      <th>75%</th>\n",
              "      <td>2016.000000</td>\n",
              "      <td>300.00000</td>\n",
              "      <td>6.000000</td>\n",
              "      <td>4.000000</td>\n",
              "      <td>30.000000</td>\n",
              "      <td>22.000000</td>\n",
              "      <td>2009.000000</td>\n",
              "      <td>4.223125e+04</td>\n",
              "    </tr>\n",
              "    <tr>\n",
              "      <th>max</th>\n",
              "      <td>2017.000000</td>\n",
              "      <td>1001.00000</td>\n",
              "      <td>16.000000</td>\n",
              "      <td>4.000000</td>\n",
              "      <td>354.000000</td>\n",
              "      <td>137.000000</td>\n",
              "      <td>5657.000000</td>\n",
              "      <td>2.065902e+06</td>\n",
              "    </tr>\n",
              "  </tbody>\n",
              "</table>\n",
              "</div>"
            ],
            "text/plain": [
              "               Year    Engine HP  ...    Popularity          MSRP\n",
              "count  11914.000000  11845.00000  ...  11914.000000  1.191400e+04\n",
              "mean    2010.384338    249.38607  ...   1554.911197  4.059474e+04\n",
              "std        7.579740    109.19187  ...   1441.855347  6.010910e+04\n",
              "min     1990.000000     55.00000  ...      2.000000  2.000000e+03\n",
              "25%     2007.000000    170.00000  ...    549.000000  2.100000e+04\n",
              "50%     2015.000000    227.00000  ...   1385.000000  2.999500e+04\n",
              "75%     2016.000000    300.00000  ...   2009.000000  4.223125e+04\n",
              "max     2017.000000   1001.00000  ...   5657.000000  2.065902e+06\n",
              "\n",
              "[8 rows x 8 columns]"
            ]
          },
          "metadata": {
            "tags": []
          },
          "execution_count": 9
        }
      ]
    },
    {
      "cell_type": "code",
      "metadata": {
        "id": "CA9N_vWfdJHy",
        "colab_type": "code",
        "colab": {
          "base_uri": "https://localhost:8080/",
          "height": 34
        },
        "outputId": "f4ce480e-1c76-43ab-a9b8-5080082522cc"
      },
      "source": [
        "# Total number of rows and columns(shape)\n",
        "df.shape"
      ],
      "execution_count": 10,
      "outputs": [
        {
          "output_type": "execute_result",
          "data": {
            "text/plain": [
              "(11914, 16)"
            ]
          },
          "metadata": {
            "tags": []
          },
          "execution_count": 10
        }
      ]
    },
    {
      "cell_type": "markdown",
      "metadata": {
        "id": "OsM7RZ4KU9OB",
        "colab_type": "text"
      },
      "source": [
        "Now we check for the Null Values inside dataset\n"
      ]
    },
    {
      "cell_type": "code",
      "metadata": {
        "id": "QcsoHIe1dUqk",
        "colab_type": "code",
        "colab": {
          "base_uri": "https://localhost:8080/",
          "height": 302
        },
        "outputId": "cccd2675-bcd5-43d6-c97c-ec06b4923b3b"
      },
      "source": [
        "# Finding the null values.\n",
        "print(df.isnull().sum())"
      ],
      "execution_count": 11,
      "outputs": [
        {
          "output_type": "stream",
          "text": [
            "Make                    0\n",
            "Model                   0\n",
            "Year                    0\n",
            "Engine Fuel Type        3\n",
            "Engine HP              69\n",
            "Engine Cylinders       30\n",
            "Transmission Type       0\n",
            "Driven_Wheels           0\n",
            "Number of Doors         6\n",
            "Market Category      3742\n",
            "Vehicle Size            0\n",
            "Vehicle Style           0\n",
            "highway MPG             0\n",
            "city mpg                0\n",
            "Popularity              0\n",
            "MSRP                    0\n",
            "dtype: int64\n"
          ],
          "name": "stdout"
        }
      ]
    },
    {
      "cell_type": "code",
      "metadata": {
        "id": "ZQaWMZcBpQia",
        "colab_type": "code",
        "colab": {
          "base_uri": "https://localhost:8080/",
          "height": 34
        },
        "outputId": "587d2a81-625e-44ba-ae21-b8155ba58580"
      },
      "source": [
        "#finding null value of a specific column\n",
        "df[\"Market Category\"].isnull().sum()"
      ],
      "execution_count": 12,
      "outputs": [
        {
          "output_type": "execute_result",
          "data": {
            "text/plain": [
              "3742"
            ]
          },
          "metadata": {
            "tags": []
          },
          "execution_count": 12
        }
      ]
    },
    {
      "cell_type": "markdown",
      "metadata": {
        "id": "4UKMY5lCaCy5",
        "colab_type": "text"
      },
      "source": [
        "# Step 2\n",
        "Check columns in the  dataset which is of less relevance and drop them."
      ]
    },
    {
      "cell_type": "markdown",
      "metadata": {
        "id": "WyT3G1NfqbGZ",
        "colab_type": "text"
      },
      "source": [
        "# 2.1 Checking Data of less Relevance"
      ]
    },
    {
      "cell_type": "markdown",
      "metadata": {
        "id": "GFRZkqF_q-ec",
        "colab_type": "text"
      },
      "source": [
        "In Above Step 1.2 we see that column['No of Doors'] is not changing very frequently.\n",
        "And also the column['Market Category'] is of no use.\n",
        "so column[ 'No of Doors' , 'Market Category' ] are of less relevance."
      ]
    },
    {
      "cell_type": "markdown",
      "metadata": {
        "id": "ykLRZXm1rhFS",
        "colab_type": "text"
      },
      "source": [
        "# 2.2 Dropping irrelevant Columns"
      ]
    },
    {
      "cell_type": "code",
      "metadata": {
        "id": "pLhcvoZtIK6V",
        "colab_type": "code",
        "colab": {}
      },
      "source": [
        "# Dropping irrelevant columns\n",
        "df=df.drop(['Market Category','Number of Doors'],axis=1)"
      ],
      "execution_count": null,
      "outputs": []
    },
    {
      "cell_type": "code",
      "metadata": {
        "id": "O1QY22mXymas",
        "colab_type": "code",
        "colab": {
          "base_uri": "https://localhost:8080/",
          "height": 380
        },
        "outputId": "ce735279-65f6-44bf-bd86-5464df185e35"
      },
      "source": [
        "df.head()"
      ],
      "execution_count": 27,
      "outputs": [
        {
          "output_type": "execute_result",
          "data": {
            "text/html": [
              "<div>\n",
              "<style scoped>\n",
              "    .dataframe tbody tr th:only-of-type {\n",
              "        vertical-align: middle;\n",
              "    }\n",
              "\n",
              "    .dataframe tbody tr th {\n",
              "        vertical-align: top;\n",
              "    }\n",
              "\n",
              "    .dataframe thead th {\n",
              "        text-align: right;\n",
              "    }\n",
              "</style>\n",
              "<table border=\"1\" class=\"dataframe\">\n",
              "  <thead>\n",
              "    <tr style=\"text-align: right;\">\n",
              "      <th></th>\n",
              "      <th>Make</th>\n",
              "      <th>Model</th>\n",
              "      <th>Year</th>\n",
              "      <th>Engine Fuel Type</th>\n",
              "      <th>Engine HP</th>\n",
              "      <th>Engine Cylinders</th>\n",
              "      <th>Transmission Type</th>\n",
              "      <th>Driven_Wheels</th>\n",
              "      <th>Vehicle Size</th>\n",
              "      <th>Vehicle Style</th>\n",
              "      <th>highway MPG</th>\n",
              "      <th>city mpg</th>\n",
              "      <th>Popularity</th>\n",
              "      <th>MSRP</th>\n",
              "    </tr>\n",
              "  </thead>\n",
              "  <tbody>\n",
              "    <tr>\n",
              "      <th>0</th>\n",
              "      <td>BMW</td>\n",
              "      <td>1 Series M</td>\n",
              "      <td>2011</td>\n",
              "      <td>premium unleaded (required)</td>\n",
              "      <td>335.0</td>\n",
              "      <td>6.0</td>\n",
              "      <td>MANUAL</td>\n",
              "      <td>rear wheel drive</td>\n",
              "      <td>Compact</td>\n",
              "      <td>Coupe</td>\n",
              "      <td>26</td>\n",
              "      <td>19</td>\n",
              "      <td>3916</td>\n",
              "      <td>46135</td>\n",
              "    </tr>\n",
              "    <tr>\n",
              "      <th>1</th>\n",
              "      <td>BMW</td>\n",
              "      <td>1 Series</td>\n",
              "      <td>2011</td>\n",
              "      <td>premium unleaded (required)</td>\n",
              "      <td>300.0</td>\n",
              "      <td>6.0</td>\n",
              "      <td>MANUAL</td>\n",
              "      <td>rear wheel drive</td>\n",
              "      <td>Compact</td>\n",
              "      <td>Convertible</td>\n",
              "      <td>28</td>\n",
              "      <td>19</td>\n",
              "      <td>3916</td>\n",
              "      <td>40650</td>\n",
              "    </tr>\n",
              "    <tr>\n",
              "      <th>2</th>\n",
              "      <td>BMW</td>\n",
              "      <td>1 Series</td>\n",
              "      <td>2011</td>\n",
              "      <td>premium unleaded (required)</td>\n",
              "      <td>300.0</td>\n",
              "      <td>6.0</td>\n",
              "      <td>MANUAL</td>\n",
              "      <td>rear wheel drive</td>\n",
              "      <td>Compact</td>\n",
              "      <td>Coupe</td>\n",
              "      <td>28</td>\n",
              "      <td>20</td>\n",
              "      <td>3916</td>\n",
              "      <td>36350</td>\n",
              "    </tr>\n",
              "    <tr>\n",
              "      <th>3</th>\n",
              "      <td>BMW</td>\n",
              "      <td>1 Series</td>\n",
              "      <td>2011</td>\n",
              "      <td>premium unleaded (required)</td>\n",
              "      <td>230.0</td>\n",
              "      <td>6.0</td>\n",
              "      <td>MANUAL</td>\n",
              "      <td>rear wheel drive</td>\n",
              "      <td>Compact</td>\n",
              "      <td>Coupe</td>\n",
              "      <td>28</td>\n",
              "      <td>18</td>\n",
              "      <td>3916</td>\n",
              "      <td>29450</td>\n",
              "    </tr>\n",
              "    <tr>\n",
              "      <th>4</th>\n",
              "      <td>BMW</td>\n",
              "      <td>1 Series</td>\n",
              "      <td>2011</td>\n",
              "      <td>premium unleaded (required)</td>\n",
              "      <td>230.0</td>\n",
              "      <td>6.0</td>\n",
              "      <td>MANUAL</td>\n",
              "      <td>rear wheel drive</td>\n",
              "      <td>Compact</td>\n",
              "      <td>Convertible</td>\n",
              "      <td>28</td>\n",
              "      <td>18</td>\n",
              "      <td>3916</td>\n",
              "      <td>34500</td>\n",
              "    </tr>\n",
              "  </tbody>\n",
              "</table>\n",
              "</div>"
            ],
            "text/plain": [
              "  Make       Model  Year  ... city mpg  Popularity   MSRP\n",
              "0  BMW  1 Series M  2011  ...       19        3916  46135\n",
              "1  BMW    1 Series  2011  ...       19        3916  40650\n",
              "2  BMW    1 Series  2011  ...       20        3916  36350\n",
              "3  BMW    1 Series  2011  ...       18        3916  29450\n",
              "4  BMW    1 Series  2011  ...       18        3916  34500\n",
              "\n",
              "[5 rows x 14 columns]"
            ]
          },
          "metadata": {
            "tags": []
          },
          "execution_count": 27
        }
      ]
    },
    {
      "cell_type": "code",
      "metadata": {
        "id": "0dKlwwmRtjhm",
        "colab_type": "code",
        "colab": {
          "base_uri": "https://localhost:8080/",
          "height": 34
        },
        "outputId": "fbf2658c-4bbb-4e04-dbdc-29c4aeaf14c5"
      },
      "source": [
        "#Checking size\n",
        "df.shape"
      ],
      "execution_count": 16,
      "outputs": [
        {
          "output_type": "execute_result",
          "data": {
            "text/plain": [
              "(11914, 14)"
            ]
          },
          "metadata": {
            "tags": []
          },
          "execution_count": 16
        }
      ]
    },
    {
      "cell_type": "code",
      "metadata": {
        "id": "PWtTOs-7t65I",
        "colab_type": "code",
        "colab": {
          "base_uri": "https://localhost:8080/",
          "height": 101
        },
        "outputId": "551042f5-4def-419a-aa40-9b6b54b50fd2"
      },
      "source": [
        "#after dropping\n",
        "df.columns"
      ],
      "execution_count": 17,
      "outputs": [
        {
          "output_type": "execute_result",
          "data": {
            "text/plain": [
              "Index(['Make', 'Model', 'Year', 'Engine Fuel Type', 'Engine HP',\n",
              "       'Engine Cylinders', 'Transmission Type', 'Driven_Wheels',\n",
              "       'Vehicle Size', 'Vehicle Style', 'highway MPG', 'city mpg',\n",
              "       'Popularity', 'MSRP'],\n",
              "      dtype='object')"
            ]
          },
          "metadata": {
            "tags": []
          },
          "execution_count": 17
        }
      ]
    },
    {
      "cell_type": "markdown",
      "metadata": {
        "id": "iakYIgPFuGIN",
        "colab_type": "text"
      },
      "source": [
        "# Step3\n",
        "Rename the columns for improving readability of the dataset"
      ]
    },
    {
      "cell_type": "markdown",
      "metadata": {
        "id": "J8ivqlaY1mRl",
        "colab_type": "text"
      },
      "source": [
        "In this dataset, most of the column names are very confusing and complex to read, so I just renamed them."
      ]
    },
    {
      "cell_type": "code",
      "metadata": {
        "id": "HpQXoHsw1RCu",
        "colab_type": "code",
        "colab": {
          "base_uri": "https://localhost:8080/",
          "height": 296
        },
        "outputId": "15665fd3-b6dd-4103-cc2d-02d01374d7ff"
      },
      "source": [
        "#renaming the column names\n",
        "df.rename(columns={\"Engine HP\": \"HP\", \"Engine Cylinders\": \"Cylinders\", \"Transmission Type\": \"Transmission\",\n",
        "                    \"Driven_Wheels\": \"Drive Mode\",\"highway MPG\": \"MPG-H\", \"city mpg\": \"MPG-C\", \"MSRP\": \"Price\"},inplace=True)\n",
        "df.head()"
      ],
      "execution_count": 31,
      "outputs": [
        {
          "output_type": "execute_result",
          "data": {
            "text/html": [
              "<div>\n",
              "<style scoped>\n",
              "    .dataframe tbody tr th:only-of-type {\n",
              "        vertical-align: middle;\n",
              "    }\n",
              "\n",
              "    .dataframe tbody tr th {\n",
              "        vertical-align: top;\n",
              "    }\n",
              "\n",
              "    .dataframe thead th {\n",
              "        text-align: right;\n",
              "    }\n",
              "</style>\n",
              "<table border=\"1\" class=\"dataframe\">\n",
              "  <thead>\n",
              "    <tr style=\"text-align: right;\">\n",
              "      <th></th>\n",
              "      <th>Make</th>\n",
              "      <th>Model</th>\n",
              "      <th>Year</th>\n",
              "      <th>Engine Fuel Type</th>\n",
              "      <th>HP</th>\n",
              "      <th>Cylinders</th>\n",
              "      <th>Transmission</th>\n",
              "      <th>Drive Mode</th>\n",
              "      <th>Vehicle Size</th>\n",
              "      <th>Vehicle Style</th>\n",
              "      <th>MPG-H</th>\n",
              "      <th>MPG-C</th>\n",
              "      <th>Popularity</th>\n",
              "      <th>Price</th>\n",
              "    </tr>\n",
              "  </thead>\n",
              "  <tbody>\n",
              "    <tr>\n",
              "      <th>0</th>\n",
              "      <td>BMW</td>\n",
              "      <td>1 Series M</td>\n",
              "      <td>2011</td>\n",
              "      <td>premium unleaded (required)</td>\n",
              "      <td>335.0</td>\n",
              "      <td>6.0</td>\n",
              "      <td>MANUAL</td>\n",
              "      <td>rear wheel drive</td>\n",
              "      <td>Compact</td>\n",
              "      <td>Coupe</td>\n",
              "      <td>26</td>\n",
              "      <td>19</td>\n",
              "      <td>3916</td>\n",
              "      <td>46135</td>\n",
              "    </tr>\n",
              "    <tr>\n",
              "      <th>1</th>\n",
              "      <td>BMW</td>\n",
              "      <td>1 Series</td>\n",
              "      <td>2011</td>\n",
              "      <td>premium unleaded (required)</td>\n",
              "      <td>300.0</td>\n",
              "      <td>6.0</td>\n",
              "      <td>MANUAL</td>\n",
              "      <td>rear wheel drive</td>\n",
              "      <td>Compact</td>\n",
              "      <td>Convertible</td>\n",
              "      <td>28</td>\n",
              "      <td>19</td>\n",
              "      <td>3916</td>\n",
              "      <td>40650</td>\n",
              "    </tr>\n",
              "    <tr>\n",
              "      <th>2</th>\n",
              "      <td>BMW</td>\n",
              "      <td>1 Series</td>\n",
              "      <td>2011</td>\n",
              "      <td>premium unleaded (required)</td>\n",
              "      <td>300.0</td>\n",
              "      <td>6.0</td>\n",
              "      <td>MANUAL</td>\n",
              "      <td>rear wheel drive</td>\n",
              "      <td>Compact</td>\n",
              "      <td>Coupe</td>\n",
              "      <td>28</td>\n",
              "      <td>20</td>\n",
              "      <td>3916</td>\n",
              "      <td>36350</td>\n",
              "    </tr>\n",
              "    <tr>\n",
              "      <th>3</th>\n",
              "      <td>BMW</td>\n",
              "      <td>1 Series</td>\n",
              "      <td>2011</td>\n",
              "      <td>premium unleaded (required)</td>\n",
              "      <td>230.0</td>\n",
              "      <td>6.0</td>\n",
              "      <td>MANUAL</td>\n",
              "      <td>rear wheel drive</td>\n",
              "      <td>Compact</td>\n",
              "      <td>Coupe</td>\n",
              "      <td>28</td>\n",
              "      <td>18</td>\n",
              "      <td>3916</td>\n",
              "      <td>29450</td>\n",
              "    </tr>\n",
              "    <tr>\n",
              "      <th>4</th>\n",
              "      <td>BMW</td>\n",
              "      <td>1 Series</td>\n",
              "      <td>2011</td>\n",
              "      <td>premium unleaded (required)</td>\n",
              "      <td>230.0</td>\n",
              "      <td>6.0</td>\n",
              "      <td>MANUAL</td>\n",
              "      <td>rear wheel drive</td>\n",
              "      <td>Compact</td>\n",
              "      <td>Convertible</td>\n",
              "      <td>28</td>\n",
              "      <td>18</td>\n",
              "      <td>3916</td>\n",
              "      <td>34500</td>\n",
              "    </tr>\n",
              "  </tbody>\n",
              "</table>\n",
              "</div>"
            ],
            "text/plain": [
              "  Make       Model  Year  ... MPG-C  Popularity  Price\n",
              "0  BMW  1 Series M  2011  ...    19        3916  46135\n",
              "1  BMW    1 Series  2011  ...    19        3916  40650\n",
              "2  BMW    1 Series  2011  ...    20        3916  36350\n",
              "3  BMW    1 Series  2011  ...    18        3916  29450\n",
              "4  BMW    1 Series  2011  ...    18        3916  34500\n",
              "\n",
              "[5 rows x 14 columns]"
            ]
          },
          "metadata": {
            "tags": []
          },
          "execution_count": 31
        }
      ]
    },
    {
      "cell_type": "code",
      "metadata": {
        "id": "vvNDGGQ12O9V",
        "colab_type": "code",
        "colab": {
          "base_uri": "https://localhost:8080/",
          "height": 370
        },
        "outputId": "c6c505db-3c53-42f3-c799-93d672b970e9"
      },
      "source": [
        "df.info()"
      ],
      "execution_count": 32,
      "outputs": [
        {
          "output_type": "stream",
          "text": [
            "<class 'pandas.core.frame.DataFrame'>\n",
            "RangeIndex: 11914 entries, 0 to 11913\n",
            "Data columns (total 14 columns):\n",
            " #   Column            Non-Null Count  Dtype  \n",
            "---  ------            --------------  -----  \n",
            " 0   Make              11914 non-null  object \n",
            " 1   Model             11914 non-null  object \n",
            " 2   Year              11914 non-null  int64  \n",
            " 3   Engine Fuel Type  11911 non-null  object \n",
            " 4   HP                11845 non-null  float64\n",
            " 5   Cylinders         11884 non-null  float64\n",
            " 6   Transmission      11914 non-null  object \n",
            " 7   Drive Mode        11914 non-null  object \n",
            " 8   Vehicle Size      11914 non-null  object \n",
            " 9   Vehicle Style     11914 non-null  object \n",
            " 10  MPG-H             11914 non-null  int64  \n",
            " 11  MPG-C             11914 non-null  int64  \n",
            " 12  Popularity        11914 non-null  int64  \n",
            " 13  Price             11914 non-null  int64  \n",
            "dtypes: float64(2), int64(5), object(7)\n",
            "memory usage: 1.3+ MB\n"
          ],
          "name": "stdout"
        }
      ]
    },
    {
      "cell_type": "markdown",
      "metadata": {
        "id": "_Os2DF1p1W56",
        "colab_type": "text"
      },
      "source": [
        "# Step 4\n",
        "Check for any duplicates in the data, check for null values and missing data and remove\n",
        "them"
      ]
    },
    {
      "cell_type": "markdown",
      "metadata": {
        "id": "S4K-Vt4m3AGK",
        "colab_type": "text"
      },
      "source": [
        "# 4.1 Checking duplicates and Removing them"
      ]
    },
    {
      "cell_type": "code",
      "metadata": {
        "id": "lrZBRX0g2dy5",
        "colab_type": "code",
        "colab": {
          "base_uri": "https://localhost:8080/",
          "height": 34
        },
        "outputId": "7cb78bc9-dcf1-4c01-cf15-08d6274d14f2"
      },
      "source": [
        "#find total duplicates in dataset\n",
        "df.duplicated().sum()"
      ],
      "execution_count": 33,
      "outputs": [
        {
          "output_type": "execute_result",
          "data": {
            "text/plain": [
              "721"
            ]
          },
          "metadata": {
            "tags": []
          },
          "execution_count": 33
        }
      ]
    },
    {
      "cell_type": "code",
      "metadata": {
        "id": "YY98GR5X24JL",
        "colab_type": "code",
        "colab": {
          "base_uri": "https://localhost:8080/",
          "height": 269
        },
        "outputId": "03670e70-40bf-48f6-b575-34612f5f4692"
      },
      "source": [
        "# Used to count the number of rows before removing the data\n",
        "df.count() "
      ],
      "execution_count": 36,
      "outputs": [
        {
          "output_type": "execute_result",
          "data": {
            "text/plain": [
              "Make                10571\n",
              "Model               10571\n",
              "Year                10571\n",
              "Engine Fuel Type    10568\n",
              "HP                  10502\n",
              "Cylinders           10541\n",
              "Transmission        10571\n",
              "Drive Mode          10571\n",
              "Vehicle Size        10571\n",
              "Vehicle Style       10571\n",
              "MPG-H               10571\n",
              "MPG-C               10571\n",
              "Popularity          10571\n",
              "Price               10571\n",
              "dtype: int64"
            ]
          },
          "metadata": {
            "tags": []
          },
          "execution_count": 36
        }
      ]
    },
    {
      "cell_type": "code",
      "metadata": {
        "id": "Lyk7VqNyIUei",
        "colab_type": "code",
        "colab": {
          "base_uri": "https://localhost:8080/",
          "height": 370
        },
        "outputId": "3f1f2e6b-e044-4140-9c63-f841fcded444"
      },
      "source": [
        "#remove all duplicates\n",
        "df.drop_duplicates(keep=False,inplace=True)\n",
        "df.info()"
      ],
      "execution_count": 37,
      "outputs": [
        {
          "output_type": "stream",
          "text": [
            "<class 'pandas.core.frame.DataFrame'>\n",
            "Int64Index: 10571 entries, 0 to 11913\n",
            "Data columns (total 14 columns):\n",
            " #   Column            Non-Null Count  Dtype  \n",
            "---  ------            --------------  -----  \n",
            " 0   Make              10571 non-null  object \n",
            " 1   Model             10571 non-null  object \n",
            " 2   Year              10571 non-null  int64  \n",
            " 3   Engine Fuel Type  10568 non-null  object \n",
            " 4   HP                10502 non-null  float64\n",
            " 5   Cylinders         10541 non-null  float64\n",
            " 6   Transmission      10571 non-null  object \n",
            " 7   Drive Mode        10571 non-null  object \n",
            " 8   Vehicle Size      10571 non-null  object \n",
            " 9   Vehicle Style     10571 non-null  object \n",
            " 10  MPG-H             10571 non-null  int64  \n",
            " 11  MPG-C             10571 non-null  int64  \n",
            " 12  Popularity        10571 non-null  int64  \n",
            " 13  Price             10571 non-null  int64  \n",
            "dtypes: float64(2), int64(5), object(7)\n",
            "memory usage: 1.2+ MB\n"
          ],
          "name": "stdout"
        }
      ]
    },
    {
      "cell_type": "code",
      "metadata": {
        "id": "5ZTTemOIInpl",
        "colab_type": "code",
        "colab": {
          "base_uri": "https://localhost:8080/",
          "height": 269
        },
        "outputId": "970f995a-31aa-4963-d2d7-10ed15442a57"
      },
      "source": [
        "# Counting the number of rows after removing duplicates.\n",
        "df.count()"
      ],
      "execution_count": 38,
      "outputs": [
        {
          "output_type": "execute_result",
          "data": {
            "text/plain": [
              "Make                10571\n",
              "Model               10571\n",
              "Year                10571\n",
              "Engine Fuel Type    10568\n",
              "HP                  10502\n",
              "Cylinders           10541\n",
              "Transmission        10571\n",
              "Drive Mode          10571\n",
              "Vehicle Size        10571\n",
              "Vehicle Style       10571\n",
              "MPG-H               10571\n",
              "MPG-C               10571\n",
              "Popularity          10571\n",
              "Price               10571\n",
              "dtype: int64"
            ]
          },
          "metadata": {
            "tags": []
          },
          "execution_count": 38
        }
      ]
    },
    {
      "cell_type": "markdown",
      "metadata": {
        "id": "ZFGnqKj03XfP",
        "colab_type": "text"
      },
      "source": [
        "# 4.2 Checking null value and removing them"
      ]
    },
    {
      "cell_type": "code",
      "metadata": {
        "id": "LjaFr5gg3lEB",
        "colab_type": "code",
        "colab": {
          "base_uri": "https://localhost:8080/",
          "height": 370
        },
        "outputId": "33961539-29ba-43bb-db26-f398af67ddb0"
      },
      "source": [
        "#find null values in data and remove them\n",
        "df.dropna(inplace=True)\n",
        "df.info()"
      ],
      "execution_count": 39,
      "outputs": [
        {
          "output_type": "stream",
          "text": [
            "<class 'pandas.core.frame.DataFrame'>\n",
            "Int64Index: 10470 entries, 0 to 11913\n",
            "Data columns (total 14 columns):\n",
            " #   Column            Non-Null Count  Dtype  \n",
            "---  ------            --------------  -----  \n",
            " 0   Make              10470 non-null  object \n",
            " 1   Model             10470 non-null  object \n",
            " 2   Year              10470 non-null  int64  \n",
            " 3   Engine Fuel Type  10470 non-null  object \n",
            " 4   HP                10470 non-null  float64\n",
            " 5   Cylinders         10470 non-null  float64\n",
            " 6   Transmission      10470 non-null  object \n",
            " 7   Drive Mode        10470 non-null  object \n",
            " 8   Vehicle Size      10470 non-null  object \n",
            " 9   Vehicle Style     10470 non-null  object \n",
            " 10  MPG-H             10470 non-null  int64  \n",
            " 11  MPG-C             10470 non-null  int64  \n",
            " 12  Popularity        10470 non-null  int64  \n",
            " 13  Price             10470 non-null  int64  \n",
            "dtypes: float64(2), int64(5), object(7)\n",
            "memory usage: 1.2+ MB\n"
          ],
          "name": "stdout"
        }
      ]
    },
    {
      "cell_type": "code",
      "metadata": {
        "id": "dbzg9cgx3-UW",
        "colab_type": "code",
        "colab": {
          "base_uri": "https://localhost:8080/",
          "height": 269
        },
        "outputId": "4dcd8840-f6f6-4496-f6a3-bafbee4c579f"
      },
      "source": [
        "#null values in data set\n",
        "df.isnull().sum()"
      ],
      "execution_count": 41,
      "outputs": [
        {
          "output_type": "execute_result",
          "data": {
            "text/plain": [
              "Make                0\n",
              "Model               0\n",
              "Year                0\n",
              "Engine Fuel Type    0\n",
              "HP                  0\n",
              "Cylinders           0\n",
              "Transmission        0\n",
              "Drive Mode          0\n",
              "Vehicle Size        0\n",
              "Vehicle Style       0\n",
              "MPG-H               0\n",
              "MPG-C               0\n",
              "Popularity          0\n",
              "Price               0\n",
              "dtype: int64"
            ]
          },
          "metadata": {
            "tags": []
          },
          "execution_count": 41
        }
      ]
    },
    {
      "cell_type": "markdown",
      "metadata": {
        "id": "Am--AM2l4SuX",
        "colab_type": "text"
      },
      "source": [
        "# 4.3 Checking missing value and removing them"
      ]
    },
    {
      "cell_type": "code",
      "metadata": {
        "id": "ZXJgNXCiIyB6",
        "colab_type": "code",
        "colab": {
          "base_uri": "https://localhost:8080/",
          "height": 269
        },
        "outputId": "7a4a62e1-c6fe-4e54-a99c-e3ea16821ef3"
      },
      "source": [
        "# Dropping the missing values.\n",
        "df = df.dropna() \n",
        "df.count()# Dropping the missing values.\n",
        "df = df.dropna() \n",
        "df.count()"
      ],
      "execution_count": 42,
      "outputs": [
        {
          "output_type": "execute_result",
          "data": {
            "text/plain": [
              "Make                10470\n",
              "Model               10470\n",
              "Year                10470\n",
              "Engine Fuel Type    10470\n",
              "HP                  10470\n",
              "Cylinders           10470\n",
              "Transmission        10470\n",
              "Drive Mode          10470\n",
              "Vehicle Size        10470\n",
              "Vehicle Style       10470\n",
              "MPG-H               10470\n",
              "MPG-C               10470\n",
              "Popularity          10470\n",
              "Price               10470\n",
              "dtype: int64"
            ]
          },
          "metadata": {
            "tags": []
          },
          "execution_count": 42
        }
      ]
    },
    {
      "cell_type": "code",
      "metadata": {
        "id": "v0w39dkqI4Zm",
        "colab_type": "code",
        "colab": {
          "base_uri": "https://localhost:8080/",
          "height": 269
        },
        "outputId": "cea071c5-7de7-45b7-9935-7689255301a8"
      },
      "source": [
        "# After dropping the values\n",
        "print(df.isnull().sum())"
      ],
      "execution_count": 43,
      "outputs": [
        {
          "output_type": "stream",
          "text": [
            "Make                0\n",
            "Model               0\n",
            "Year                0\n",
            "Engine Fuel Type    0\n",
            "HP                  0\n",
            "Cylinders           0\n",
            "Transmission        0\n",
            "Drive Mode          0\n",
            "Vehicle Size        0\n",
            "Vehicle Style       0\n",
            "MPG-H               0\n",
            "MPG-C               0\n",
            "Popularity          0\n",
            "Price               0\n",
            "dtype: int64\n"
          ],
          "name": "stdout"
        }
      ]
    },
    {
      "cell_type": "markdown",
      "metadata": {
        "id": "iqMla3-I4qhH",
        "colab_type": "text"
      },
      "source": [
        "# Step 5\n",
        "Plotting graphs of various columns to check for outliers and remove those data points from the\n",
        "dataset.\n"
      ]
    },
    {
      "cell_type": "markdown",
      "metadata": {
        "id": "WD32phBQ5vzp",
        "colab_type": "text"
      },
      "source": [
        "# 5.1 Boxplot graph for various columns"
      ]
    },
    {
      "cell_type": "code",
      "metadata": {
        "id": "YXH9AOnvI9A1",
        "colab_type": "code",
        "colab": {
          "base_uri": "https://localhost:8080/",
          "height": 302
        },
        "outputId": "a5d4dd23-22c6-4bb2-a8e1-aed8ad3cf480"
      },
      "source": [
        "#Boxplot of different columns\n",
        "sns.boxplot(x=df[\"Year\"])"
      ],
      "execution_count": 46,
      "outputs": [
        {
          "output_type": "execute_result",
          "data": {
            "text/plain": [
              "<matplotlib.axes._subplots.AxesSubplot at 0x7f402da17978>"
            ]
          },
          "metadata": {
            "tags": []
          },
          "execution_count": 46
        },
        {
          "output_type": "display_data",
          "data": {
            "image/png": "[encoded data removed]",
            "text/plain": [
              "<Figure size 432x288 with 1 Axes>"
            ]
          },
          "metadata": {
            "tags": [],
            "needs_background": "light"
          }
        }
      ]
    },
    {
      "cell_type": "code",
      "metadata": {
        "id": "gz__fAjLJBXu",
        "colab_type": "code",
        "colab": {
          "base_uri": "https://localhost:8080/",
          "height": 302
        },
        "outputId": "6d75d573-7268-41f5-e317-ea695b6ef41b"
      },
      "source": [
        "sns.boxplot(x=df[\"HP\"])"
      ],
      "execution_count": 47,
      "outputs": [
        {
          "output_type": "execute_result",
          "data": {
            "text/plain": [
              "<matplotlib.axes._subplots.AxesSubplot at 0x7f402d8cff60>"
            ]
          },
          "metadata": {
            "tags": []
          },
          "execution_count": 47
        },
        {
          "output_type": "display_data",
          "data": {
            "image/png": "[encoded data removed]",
            "text/plain": [
              "<Figure size 432x288 with 1 Axes>"
            ]
          },
          "metadata": {
            "tags": [],
            "needs_background": "light"
          }
        }
      ]
    },
    {
      "cell_type": "code",
      "metadata": {
        "id": "W1VxQgpY6zpS",
        "colab_type": "code",
        "colab": {
          "base_uri": "https://localhost:8080/",
          "height": 302
        },
        "outputId": "da3b0717-8303-41d5-ed16-5d5e4fc4a615"
      },
      "source": [
        "sns.boxplot(x=df[\"MPG-C\"])"
      ],
      "execution_count": 48,
      "outputs": [
        {
          "output_type": "execute_result",
          "data": {
            "text/plain": [
              "<matplotlib.axes._subplots.AxesSubplot at 0x7f402d45ecc0>"
            ]
          },
          "metadata": {
            "tags": []
          },
          "execution_count": 48
        },
        {
          "output_type": "display_data",
          "data": {
            "image/png": "[encoded data removed]",
            "text/plain": [
              "<Figure size 432x288 with 1 Axes>"
            ]
          },
          "metadata": {
            "tags": [],
            "needs_background": "light"
          }
        }
      ]
    },
    {
      "cell_type": "code",
      "metadata": {
        "id": "d8E3GmxX64V4",
        "colab_type": "code",
        "colab": {
          "base_uri": "https://localhost:8080/",
          "height": 302
        },
        "outputId": "2c3368ac-f56c-418c-a95b-9a3e6611ed68"
      },
      "source": [
        "sns.boxplot(x=df[\"MPG-H\"])"
      ],
      "execution_count": 49,
      "outputs": [
        {
          "output_type": "execute_result",
          "data": {
            "text/plain": [
              "<matplotlib.axes._subplots.AxesSubplot at 0x7f402d3d17f0>"
            ]
          },
          "metadata": {
            "tags": []
          },
          "execution_count": 49
        },
        {
          "output_type": "display_data",
          "data": {
            "image/png": "[encoded data removed]",
            "text/plain": [
              "<Figure size 432x288 with 1 Axes>"
            ]
          },
          "metadata": {
            "tags": [],
            "needs_background": "light"
          }
        }
      ]
    },
    {
      "cell_type": "code",
      "metadata": {
        "id": "1TIejpL0JB1_",
        "colab_type": "code",
        "colab": {
          "base_uri": "https://localhost:8080/",
          "height": 302
        },
        "outputId": "da9aa3e1-b707-4347-90f4-5249911d28cd"
      },
      "source": [
        "sns.boxplot(x=df[\"Cylinders\"])"
      ],
      "execution_count": 50,
      "outputs": [
        {
          "output_type": "execute_result",
          "data": {
            "text/plain": [
              "<matplotlib.axes._subplots.AxesSubplot at 0x7f402d3a4c88>"
            ]
          },
          "metadata": {
            "tags": []
          },
          "execution_count": 50
        },
        {
          "output_type": "display_data",
          "data": {
            "image/png": "[encoded data removed]",
            "text/plain": [
              "<Figure size 432x288 with 1 Axes>"
            ]
          },
          "metadata": {
            "tags": [],
            "needs_background": "light"
          }
        }
      ]
    },
    {
      "cell_type": "code",
      "metadata": {
        "id": "ONWxFlOH7DeO",
        "colab_type": "code",
        "colab": {
          "base_uri": "https://localhost:8080/",
          "height": 302
        },
        "outputId": "e2135a8a-bbae-46f3-b64e-bb499ee27ddd"
      },
      "source": [
        "sns.boxplot(x=df[\"Popularity\"])"
      ],
      "execution_count": 51,
      "outputs": [
        {
          "output_type": "execute_result",
          "data": {
            "text/plain": [
              "<matplotlib.axes._subplots.AxesSubplot at 0x7f402d2a8dd8>"
            ]
          },
          "metadata": {
            "tags": []
          },
          "execution_count": 51
        },
        {
          "output_type": "display_data",
          "data": {
            "image/png": "[encoded data removed]",
            "text/plain": [
              "<Figure size 432x288 with 1 Axes>"
            ]
          },
          "metadata": {
            "tags": [],
            "needs_background": "light"
          }
        }
      ]
    },
    {
      "cell_type": "code",
      "metadata": {
        "id": "UubviWom7ESZ",
        "colab_type": "code",
        "colab": {
          "base_uri": "https://localhost:8080/",
          "height": 302
        },
        "outputId": "bee46383-643b-48be-98a8-f99895aec6a8"
      },
      "source": [
        "sns.boxplot(x=df[\"Price\"])"
      ],
      "execution_count": 52,
      "outputs": [
        {
          "output_type": "execute_result",
          "data": {
            "text/plain": [
              "<matplotlib.axes._subplots.AxesSubplot at 0x7f402d2673c8>"
            ]
          },
          "metadata": {
            "tags": []
          },
          "execution_count": 52
        },
        {
          "output_type": "display_data",
          "data": {
            "image/png": "[encoded data removed]",
            "text/plain": [
              "<Figure size 432x288 with 1 Axes>"
            ]
          },
          "metadata": {
            "tags": [],
            "needs_background": "light"
          }
        }
      ]
    },
    {
      "cell_type": "markdown",
      "metadata": {
        "id": "HSPa48ML7Quw",
        "colab_type": "text"
      },
      "source": [
        "# 5.2 Removing Outliers shown in above graph"
      ]
    },
    {
      "cell_type": "code",
      "metadata": {
        "id": "f9ft2lCCJCIQ",
        "colab_type": "code",
        "colab": {
          "base_uri": "https://localhost:8080/",
          "height": 151
        },
        "outputId": "ad0d394c-02b2-4524-96c3-bce1c89d5b6b"
      },
      "source": [
        "#Remove all outliers in the boxplot\n",
        "Q1=df.quantile(0.25)\n",
        "Q2=df.quantile(0.75)\n",
        "IQR=Q2-Q1\n",
        "print(IQR)"
      ],
      "execution_count": 53,
      "outputs": [
        {
          "output_type": "stream",
          "text": [
            "Year              9.0\n",
            "HP              131.0\n",
            "Cylinders         2.0\n",
            "MPG-H             8.0\n",
            "MPG-C             7.0\n",
            "Popularity     1460.0\n",
            "Price         21822.5\n",
            "dtype: float64\n"
          ],
          "name": "stdout"
        }
      ]
    },
    {
      "cell_type": "code",
      "metadata": {
        "id": "DEm_BQPi788I",
        "colab_type": "code",
        "colab": {
          "base_uri": "https://localhost:8080/",
          "height": 269
        },
        "outputId": "4efb61bc-a4dc-401d-c950-7789637df2a1"
      },
      "source": [
        "#Check number of outliers in boxplot of different columns before removing them\n",
        "( (df<(Q1-(1.5*IQR))) | (df>(Q2+(1.5*IQR))) ).sum()"
      ],
      "execution_count": 54,
      "outputs": [
        {
          "output_type": "execute_result",
          "data": {
            "text/plain": [
              "Cylinders           304\n",
              "Drive Mode            0\n",
              "Engine Fuel Type      0\n",
              "HP                  478\n",
              "MPG-C               217\n",
              "MPG-H               119\n",
              "Make                  0\n",
              "Model                 0\n",
              "Popularity          765\n",
              "Price               916\n",
              "Transmission          0\n",
              "Vehicle Size          0\n",
              "Vehicle Style         0\n",
              "Year                343\n",
              "dtype: int64"
            ]
          },
          "metadata": {
            "tags": []
          },
          "execution_count": 54
        }
      ]
    },
    {
      "cell_type": "code",
      "metadata": {
        "id": "yj1n-akuJTA0",
        "colab_type": "code",
        "colab": {}
      },
      "source": [
        "df=df[~( (df<(Q1-(1.5*IQR))) | (df>(Q2+(1.5*IQR))) ).any(axis=1)]"
      ],
      "execution_count": 58,
      "outputs": []
    },
    {
      "cell_type": "markdown",
      "metadata": {
        "id": "Y2223goV8mqz",
        "colab_type": "text"
      },
      "source": [
        "# 5.3 Boxplot after removing outlier"
      ]
    },
    {
      "cell_type": "code",
      "metadata": {
        "id": "eEvoD9yh8wYI",
        "colab_type": "code",
        "colab": {
          "base_uri": "https://localhost:8080/",
          "height": 302
        },
        "outputId": "18ad53fd-5d30-4378-80ea-70840b5fce5a"
      },
      "source": [
        "sns.boxplot(x=df[\"Year\"])"
      ],
      "execution_count": 59,
      "outputs": [
        {
          "output_type": "execute_result",
          "data": {
            "text/plain": [
              "<matplotlib.axes._subplots.AxesSubplot at 0x7f402d259128>"
            ]
          },
          "metadata": {
            "tags": []
          },
          "execution_count": 59
        },
        {
          "output_type": "display_data",
          "data": {
            "image/png": "[encoded data removed]",
            "text/plain": [
              "<Figure size 432x288 with 1 Axes>"
            ]
          },
          "metadata": {
            "tags": [],
            "needs_background": "light"
          }
        }
      ]
    },
    {
      "cell_type": "code",
      "metadata": {
        "id": "aFEDfN5s8v6v",
        "colab_type": "code",
        "colab": {
          "base_uri": "https://localhost:8080/",
          "height": 302
        },
        "outputId": "037cab0e-2a87-44d3-b7eb-8eddfa9fa279"
      },
      "source": [
        "sns.boxplot(x=df[\"HP\"])"
      ],
      "execution_count": 60,
      "outputs": [
        {
          "output_type": "execute_result",
          "data": {
            "text/plain": [
              "<matplotlib.axes._subplots.AxesSubplot at 0x7f402bf51710>"
            ]
          },
          "metadata": {
            "tags": []
          },
          "execution_count": 60
        },
        {
          "output_type": "display_data",
          "data": {
            "image/png": "[encoded data removed]",
            "text/plain": [
              "<Figure size 432x288 with 1 Axes>"
            ]
          },
          "metadata": {
            "tags": [],
            "needs_background": "light"
          }
        }
      ]
    },
    {
      "cell_type": "code",
      "metadata": {
        "id": "-aQVamBy8w5k",
        "colab_type": "code",
        "colab": {
          "base_uri": "https://localhost:8080/",
          "height": 302
        },
        "outputId": "5ecc1dff-78b9-45f6-984d-ab778e248696"
      },
      "source": [
        "sns.boxplot(x=df[\"Cylinders\"])"
      ],
      "execution_count": 61,
      "outputs": [
        {
          "output_type": "execute_result",
          "data": {
            "text/plain": [
              "<matplotlib.axes._subplots.AxesSubplot at 0x7f402beb3630>"
            ]
          },
          "metadata": {
            "tags": []
          },
          "execution_count": 61
        },
        {
          "output_type": "display_data",
          "data": {
            "image/png": "[encoded data removed]",
            "text/plain": [
              "<Figure size 432x288 with 1 Axes>"
            ]
          },
          "metadata": {
            "tags": [],
            "needs_background": "light"
          }
        }
      ]
    },
    {
      "cell_type": "code",
      "metadata": {
        "id": "QLr0Fkxp8vVw",
        "colab_type": "code",
        "colab": {
          "base_uri": "https://localhost:8080/",
          "height": 302
        },
        "outputId": "da5db074-9d86-46da-cb6d-1453b0dc08aa"
      },
      "source": [
        "sns.boxplot(x=df[\"MPG-C\"])"
      ],
      "execution_count": 62,
      "outputs": [
        {
          "output_type": "execute_result",
          "data": {
            "text/plain": [
              "<matplotlib.axes._subplots.AxesSubplot at 0x7f402be73b70>"
            ]
          },
          "metadata": {
            "tags": []
          },
          "execution_count": 62
        },
        {
          "output_type": "display_data",
          "data": {
            "image/png": "[encoded data removed]",
            "text/plain": [
              "<Figure size 432x288 with 1 Axes>"
            ]
          },
          "metadata": {
            "tags": [],
            "needs_background": "light"
          }
        }
      ]
    },
    {
      "cell_type": "code",
      "metadata": {
        "id": "WHg6ArvM8_dO",
        "colab_type": "code",
        "colab": {
          "base_uri": "https://localhost:8080/",
          "height": 302
        },
        "outputId": "ed6aaca6-4d96-4bae-d211-3b9e01a0b5c5"
      },
      "source": [
        "sns.boxplot(x=df[\"MPG-H\"])"
      ],
      "execution_count": 63,
      "outputs": [
        {
          "output_type": "execute_result",
          "data": {
            "text/plain": [
              "<matplotlib.axes._subplots.AxesSubplot at 0x7f402bde82b0>"
            ]
          },
          "metadata": {
            "tags": []
          },
          "execution_count": 63
        },
        {
          "output_type": "display_data",
          "data": {
            "image/png": "[encoded data removed]",
            "text/plain": [
              "<Figure size 432x288 with 1 Axes>"
            ]
          },
          "metadata": {
            "tags": [],
            "needs_background": "light"
          }
        }
      ]
    },
    {
      "cell_type": "code",
      "metadata": {
        "id": "LKkehK2m8_12",
        "colab_type": "code",
        "colab": {
          "base_uri": "https://localhost:8080/",
          "height": 302
        },
        "outputId": "996acce9-d26d-45dc-8371-3618caefbf7e"
      },
      "source": [
        "sns.boxplot(x=df[\"Popularity\"])"
      ],
      "execution_count": 64,
      "outputs": [
        {
          "output_type": "execute_result",
          "data": {
            "text/plain": [
              "<matplotlib.axes._subplots.AxesSubplot at 0x7f402be22c50>"
            ]
          },
          "metadata": {
            "tags": []
          },
          "execution_count": 64
        },
        {
          "output_type": "display_data",
          "data": {
            "image/png": "[encoded data removed]",
            "text/plain": [
              "<Figure size 432x288 with 1 Axes>"
            ]
          },
          "metadata": {
            "tags": [],
            "needs_background": "light"
          }
        }
      ]
    },
    {
      "cell_type": "code",
      "metadata": {
        "id": "Q5OrtG2l9AZd",
        "colab_type": "code",
        "colab": {
          "base_uri": "https://localhost:8080/",
          "height": 302
        },
        "outputId": "bb0ac084-83fc-4478-8324-c61518f64710"
      },
      "source": [
        "sns.boxplot(x=df[\"Price\"])"
      ],
      "execution_count": 65,
      "outputs": [
        {
          "output_type": "execute_result",
          "data": {
            "text/plain": [
              "<matplotlib.axes._subplots.AxesSubplot at 0x7f402bf565c0>"
            ]
          },
          "metadata": {
            "tags": []
          },
          "execution_count": 65
        },
        {
          "output_type": "display_data",
          "data": {
            "image/png": "[encoded data removed]",
            "text/plain": [
              "<Figure size 432x288 with 1 Axes>"
            ]
          },
          "metadata": {
            "tags": [],
            "needs_background": "light"
          }
        }
      ]
    },
    {
      "cell_type": "code",
      "metadata": {
        "id": "0AkVDEsI9oy7",
        "colab_type": "code",
        "colab": {
          "base_uri": "https://localhost:8080/",
          "height": 269
        },
        "outputId": "8a1bd3b0-c412-4134-e2bc-56e7d4dded51"
      },
      "source": [
        "#Check outliers in boxplot of different columns after removing them\n",
        "( (df<(Q1-(1.5*IQR))) | (df>(Q2+(1.5*IQR))) ).sum()"
      ],
      "execution_count": 66,
      "outputs": [
        {
          "output_type": "execute_result",
          "data": {
            "text/plain": [
              "Cylinders           0\n",
              "Drive Mode          0\n",
              "Engine Fuel Type    0\n",
              "HP                  0\n",
              "MPG-C               0\n",
              "MPG-H               0\n",
              "Make                0\n",
              "Model               0\n",
              "Popularity          0\n",
              "Price               0\n",
              "Transmission        0\n",
              "Vehicle Size        0\n",
              "Vehicle Style       0\n",
              "Year                0\n",
              "dtype: int64"
            ]
          },
          "metadata": {
            "tags": []
          },
          "execution_count": 66
        }
      ]
    },
    {
      "cell_type": "markdown",
      "metadata": {
        "id": "funD9y2C9Wc1",
        "colab_type": "text"
      },
      "source": [
        "# Step 6\n",
        "What car brands are the most represented in the dataset and finding the average price among the top car brands.\n"
      ]
    },
    {
      "cell_type": "markdown",
      "metadata": {
        "id": "cOcXkTTJBBhO",
        "colab_type": "text"
      },
      "source": [
        "# 6.1 Finding most represented car brands"
      ]
    },
    {
      "cell_type": "code",
      "metadata": {
        "id": "vE1D_EsqJ7m4",
        "colab_type": "code",
        "colab": {
          "base_uri": "https://localhost:8080/",
          "height": 542
        },
        "outputId": "b8bdb8c3-0fa3-414d-f1be-b3d406037f3f"
      },
      "source": [
        "import plotly.graph_objects as go\n",
        "counts = df['Make'].value_counts()*100/sum(df['Make'].value_counts())\n",
        "\n",
        "popular_labels = counts.index[:10]\n",
        "\n",
        "\n",
        "colors = ['blue',] * len(popular_labels)\n",
        "colors[0] = 'red'\n",
        "\n",
        "fig = go.Figure(data=[go.Bar(\n",
        "    x=counts[:10],\n",
        "    y=popular_labels,\n",
        "    marker_color=colors, \n",
        "    orientation='h'\n",
        ")])\n",
        "\n",
        "fig.update_layout(title_text='Top 10 Car Brands in America (in %)',\n",
        "                  xaxis_title=\"Percentage\",\n",
        "                  yaxis_title=\"Car Brand\")"
      ],
      "execution_count": 74,
      "outputs": [
        {
          "output_type": "display_data",
          "data": {
            "text/html": [
              "<html>\n",
              "<head><meta charset=\"utf-8\" /></head>\n",
              "<body>\n",
              "    <div>\n",
              "            <script src=\"https://cdnjs.cloudflare.com/ajax/libs/mathjax/2.7.5/MathJax.js?config=TeX-AMS-MML_SVG\"></script><script type=\"text/javascript\">if (window.MathJax) {MathJax.Hub.Config({SVG: {font: \"STIX-Web\"}});}</script>\n",
              "                <script type=\"text/javascript\">window.PlotlyConfig = {MathJaxConfig: 'local'};</script>\n",
              "        <script src=\"https://cdn.plot.ly/plotly-latest.min.js\"></script>    \n",
              "            <div id=\"0cfa8fa1-9376-43af-a421-bcd032c9cf16\" class=\"plotly-graph-div\" style=\"height:525px; width:100%;\"></div>\n",
              "            <script type=\"text/javascript\">\n",
              "                \n",
              "                    window.PLOTLYENV=window.PLOTLYENV || {};\n",
              "                    \n",
              "                if (document.getElementById(\"0cfa8fa1-9376-43af-a421-bcd032c9cf16\")) {\n",
              "                    Plotly.newPlot(\n",
              "                        '0cfa8fa1-9376-43af-a421-bcd032c9cf16',\n",
              "                        [{\"marker\": {\"color\": [\"red\", \"blue\", \"blue\", \"blue\", \"blue\", \"blue\", \"blue\", \"blue\", \"blue\", \"blue\"]}, \"orientation\": \"h\", \"type\": \"bar\", \"x\": [12.237932715748416, 7.313505607020965, 6.204290589956119, 5.643588493417845, 4.960994636762555, 4.61969770843491, 4.5465626523647, 3.985860555826426, 3.900536323744515, 3.7542662116040955], \"y\": [\"Chevrolet\", \"Toyota\", \"Nissan\", \"GMC\", \"Dodge\", \"Honda\", \"Mazda\", \"Suzuki\", \"Infiniti\", \"Cadillac\"]}],\n",
              "                        {\"template\": {\"data\": {\"bar\": [{\"error_x\": {\"color\": \"#2a3f5f\"}, \"error_y\": {\"color\": \"#2a3f5f\"}, \"marker\": {\"line\": {\"color\": \"#E5ECF6\", \"width\": 0.5}}, \"type\": \"bar\"}], \"barpolar\": [{\"marker\": {\"line\": {\"color\": \"#E5ECF6\", \"width\": 0.5}}, \"type\": \"barpolar\"}], \"carpet\": [{\"aaxis\": {\"endlinecolor\": \"#2a3f5f\", \"gridcolor\": \"white\", \"linecolor\": \"white\", \"minorgridcolor\": \"white\", \"startlinecolor\": \"#2a3f5f\"}, \"baxis\": {\"endlinecolor\": \"#2a3f5f\", \"gridcolor\": \"white\", \"linecolor\": \"white\", \"minorgridcolor\": \"white\", \"startlinecolor\": \"#2a3f5f\"}, \"type\": \"carpet\"}], \"choropleth\": [{\"colorbar\": {\"outlinewidth\": 0, \"ticks\": \"\"}, \"type\": \"choropleth\"}], \"contour\": [{\"colorbar\": {\"outlinewidth\": 0, \"ticks\": \"\"}, \"colorscale\": [[0.0, \"#0d0887\"], [0.1111111111111111, \"#46039f\"], [0.2222222222222222, \"#7201a8\"], [0.3333333333333333, \"#9c179e\"], [0.4444444444444444, \"#bd3786\"], [0.5555555555555556, \"#d8576b\"], [0.6666666666666666, \"#ed7953\"], [0.7777777777777778, \"#fb9f3a\"], [0.8888888888888888, \"#fdca26\"], [1.0, \"#f0f921\"]], \"type\": \"contour\"}], \"contourcarpet\": [{\"colorbar\": {\"outlinewidth\": 0, \"ticks\": \"\"}, \"type\": \"contourcarpet\"}], \"heatmap\": [{\"colorbar\": {\"outlinewidth\": 0, \"ticks\": \"\"}, \"colorscale\": [[0.0, \"#0d0887\"], [0.1111111111111111, \"#46039f\"], [0.2222222222222222, \"#7201a8\"], [0.3333333333333333, \"#9c179e\"], [0.4444444444444444, \"#bd3786\"], [0.5555555555555556, \"#d8576b\"], [0.6666666666666666, \"#ed7953\"], [0.7777777777777778, \"#fb9f3a\"], [0.8888888888888888, \"#fdca26\"], [1.0, \"#f0f921\"]], \"type\": \"heatmap\"}], \"heatmapgl\": [{\"colorbar\": {\"outlinewidth\": 0, \"ticks\": \"\"}, \"colorscale\": [[0.0, \"#0d0887\"], [0.1111111111111111, \"#46039f\"], [0.2222222222222222, \"#7201a8\"], [0.3333333333333333, \"#9c179e\"], [0.4444444444444444, \"#bd3786\"], [0.5555555555555556, \"#d8576b\"], [0.6666666666666666, \"#ed7953\"], [0.7777777777777778, \"#fb9f3a\"], [0.8888888888888888, \"#fdca26\"], [1.0, \"#f0f921\"]], \"type\": \"heatmapgl\"}], \"histogram\": [{\"marker\": {\"colorbar\": {\"outlinewidth\": 0, \"ticks\": \"\"}}, \"type\": \"histogram\"}], \"histogram2d\": [{\"colorbar\": {\"outlinewidth\": 0, \"ticks\": \"\"}, \"colorscale\": [[0.0, \"#0d0887\"], [0.1111111111111111, \"#46039f\"], [0.2222222222222222, \"#7201a8\"], [0.3333333333333333, \"#9c179e\"], [0.4444444444444444, \"#bd3786\"], [0.5555555555555556, \"#d8576b\"], [0.6666666666666666, \"#ed7953\"], [0.7777777777777778, \"#fb9f3a\"], [0.8888888888888888, \"#fdca26\"], [1.0, \"#f0f921\"]], \"type\": \"histogram2d\"}], \"histogram2dcontour\": [{\"colorbar\": {\"outlinewidth\": 0, \"ticks\": \"\"}, \"colorscale\": [[0.0, \"#0d0887\"], [0.1111111111111111, \"#46039f\"], [0.2222222222222222, \"#7201a8\"], [0.3333333333333333, \"#9c179e\"], [0.4444444444444444, \"#bd3786\"], [0.5555555555555556, \"#d8576b\"], [0.6666666666666666, \"#ed7953\"], [0.7777777777777778, \"#fb9f3a\"], [0.8888888888888888, \"#fdca26\"], [1.0, \"#f0f921\"]], \"type\": \"histogram2dcontour\"}], \"mesh3d\": [{\"colorbar\": {\"outlinewidth\": 0, \"ticks\": \"\"}, \"type\": \"mesh3d\"}], \"parcoords\": [{\"line\": {\"colorbar\": {\"outlinewidth\": 0, \"ticks\": \"\"}}, \"type\": \"parcoords\"}], \"pie\": [{\"automargin\": true, \"type\": \"pie\"}], \"scatter\": [{\"marker\": {\"colorbar\": {\"outlinewidth\": 0, \"ticks\": \"\"}}, \"type\": \"scatter\"}], \"scatter3d\": [{\"line\": {\"colorbar\": {\"outlinewidth\": 0, \"ticks\": \"\"}}, \"marker\": {\"colorbar\": {\"outlinewidth\": 0, \"ticks\": \"\"}}, \"type\": \"scatter3d\"}], \"scattercarpet\": [{\"marker\": {\"colorbar\": {\"outlinewidth\": 0, \"ticks\": \"\"}}, \"type\": \"scattercarpet\"}], \"scattergeo\": [{\"marker\": {\"colorbar\": {\"outlinewidth\": 0, \"ticks\": \"\"}}, \"type\": \"scattergeo\"}], \"scattergl\": [{\"marker\": {\"colorbar\": {\"outlinewidth\": 0, \"ticks\": \"\"}}, \"type\": \"scattergl\"}], \"scattermapbox\": [{\"marker\": {\"colorbar\": {\"outlinewidth\": 0, \"ticks\": \"\"}}, \"type\": \"scattermapbox\"}], \"scatterpolar\": [{\"marker\": {\"colorbar\": {\"outlinewidth\": 0, \"ticks\": \"\"}}, \"type\": \"scatterpolar\"}], \"scatterpolargl\": [{\"marker\": {\"colorbar\": {\"outlinewidth\": 0, \"ticks\": \"\"}}, \"type\": \"scatterpolargl\"}], \"scatterternary\": [{\"marker\": {\"colorbar\": {\"outlinewidth\": 0, \"ticks\": \"\"}}, \"type\": \"scatterternary\"}], \"surface\": [{\"colorbar\": {\"outlinewidth\": 0, \"ticks\": \"\"}, \"colorscale\": [[0.0, \"#0d0887\"], [0.1111111111111111, \"#46039f\"], [0.2222222222222222, \"#7201a8\"], [0.3333333333333333, \"#9c179e\"], [0.4444444444444444, \"#bd3786\"], [0.5555555555555556, \"#d8576b\"], [0.6666666666666666, \"#ed7953\"], [0.7777777777777778, \"#fb9f3a\"], [0.8888888888888888, \"#fdca26\"], [1.0, \"#f0f921\"]], \"type\": \"surface\"}], \"table\": [{\"cells\": {\"fill\": {\"color\": \"#EBF0F8\"}, \"line\": {\"color\": \"white\"}}, \"header\": {\"fill\": {\"color\": \"#C8D4E3\"}, \"line\": {\"color\": \"white\"}}, \"type\": \"table\"}]}, \"layout\": {\"annotationdefaults\": {\"arrowcolor\": \"#2a3f5f\", \"arrowhead\": 0, \"arrowwidth\": 1}, \"coloraxis\": {\"colorbar\": {\"outlinewidth\": 0, \"ticks\": \"\"}}, \"colorscale\": {\"diverging\": [[0, \"#8e0152\"], [0.1, \"#c51b7d\"], [0.2, \"#de77ae\"], [0.3, \"#f1b6da\"], [0.4, \"#fde0ef\"], [0.5, \"#f7f7f7\"], [0.6, \"#e6f5d0\"], [0.7, \"#b8e186\"], [0.8, \"#7fbc41\"], [0.9, \"#4d9221\"], [1, \"#276419\"]], \"sequential\": [[0.0, \"#0d0887\"], [0.1111111111111111, \"#46039f\"], [0.2222222222222222, \"#7201a8\"], [0.3333333333333333, \"#9c179e\"], [0.4444444444444444, \"#bd3786\"], [0.5555555555555556, \"#d8576b\"], [0.6666666666666666, \"#ed7953\"], [0.7777777777777778, \"#fb9f3a\"], [0.8888888888888888, \"#fdca26\"], [1.0, \"#f0f921\"]], \"sequentialminus\": [[0.0, \"#0d0887\"], [0.1111111111111111, \"#46039f\"], [0.2222222222222222, \"#7201a8\"], [0.3333333333333333, \"#9c179e\"], [0.4444444444444444, \"#bd3786\"], [0.5555555555555556, \"#d8576b\"], [0.6666666666666666, \"#ed7953\"], [0.7777777777777778, \"#fb9f3a\"], [0.8888888888888888, \"#fdca26\"], [1.0, \"#f0f921\"]]}, \"colorway\": [\"#636efa\", \"#EF553B\", \"#00cc96\", \"#ab63fa\", \"#FFA15A\", \"#19d3f3\", \"#FF6692\", \"#B6E880\", \"#FF97FF\", \"#FECB52\"], \"font\": {\"color\": \"#2a3f5f\"}, \"geo\": {\"bgcolor\": \"white\", \"lakecolor\": \"white\", \"landcolor\": \"#E5ECF6\", \"showlakes\": true, \"showland\": true, \"subunitcolor\": \"white\"}, \"hoverlabel\": {\"align\": \"left\"}, \"hovermode\": \"closest\", \"mapbox\": {\"style\": \"light\"}, \"paper_bgcolor\": \"white\", \"plot_bgcolor\": \"#E5ECF6\", \"polar\": {\"angularaxis\": {\"gridcolor\": \"white\", \"linecolor\": \"white\", \"ticks\": \"\"}, \"bgcolor\": \"#E5ECF6\", \"radialaxis\": {\"gridcolor\": \"white\", \"linecolor\": \"white\", \"ticks\": \"\"}}, \"scene\": {\"xaxis\": {\"backgroundcolor\": \"#E5ECF6\", \"gridcolor\": \"white\", \"gridwidth\": 2, \"linecolor\": \"white\", \"showbackground\": true, \"ticks\": \"\", \"zerolinecolor\": \"white\"}, \"yaxis\": {\"backgroundcolor\": \"#E5ECF6\", \"gridcolor\": \"white\", \"gridwidth\": 2, \"linecolor\": \"white\", \"showbackground\": true, \"ticks\": \"\", \"zerolinecolor\": \"white\"}, \"zaxis\": {\"backgroundcolor\": \"#E5ECF6\", \"gridcolor\": \"white\", \"gridwidth\": 2, \"linecolor\": \"white\", \"showbackground\": true, \"ticks\": \"\", \"zerolinecolor\": \"white\"}}, \"shapedefaults\": {\"line\": {\"color\": \"#2a3f5f\"}}, \"ternary\": {\"aaxis\": {\"gridcolor\": \"white\", \"linecolor\": \"white\", \"ticks\": \"\"}, \"baxis\": {\"gridcolor\": \"white\", \"linecolor\": \"white\", \"ticks\": \"\"}, \"bgcolor\": \"#E5ECF6\", \"caxis\": {\"gridcolor\": \"white\", \"linecolor\": \"white\", \"ticks\": \"\"}}, \"title\": {\"x\": 0.05}, \"xaxis\": {\"automargin\": true, \"gridcolor\": \"white\", \"linecolor\": \"white\", \"ticks\": \"\", \"title\": {\"standoff\": 15}, \"zerolinecolor\": \"white\", \"zerolinewidth\": 2}, \"yaxis\": {\"automargin\": true, \"gridcolor\": \"white\", \"linecolor\": \"white\", \"ticks\": \"\", \"title\": {\"standoff\": 15}, \"zerolinecolor\": \"white\", \"zerolinewidth\": 2}}}, \"title\": {\"text\": \"Top 10 Car Brands in America (in %)\"}, \"xaxis\": {\"title\": {\"text\": \"Percentage\"}}, \"yaxis\": {\"title\": {\"text\": \"Car Brand\"}}},\n",
              "                        {\"responsive\": true}\n",
              "                    ).then(function(){\n",
              "                            \n",
              "var gd = document.getElementById('0cfa8fa1-9376-43af-a421-bcd032c9cf16');\n",
              "var x = new MutationObserver(function (mutations, observer) {{\n",
              "        var display = window.getComputedStyle(gd).display;\n",
              "        if (!display || display === 'none') {{\n",
              "            console.log([gd, 'removed!']);\n",
              "            Plotly.purge(gd);\n",
              "            observer.disconnect();\n",
              "        }}\n",
              "}});\n",
              "\n",
              "// Listen for the removal of the full notebook cells\n",
              "var notebookContainer = gd.closest('#notebook-container');\n",
              "if (notebookContainer) {{\n",
              "    x.observe(notebookContainer, {childList: true});\n",
              "}}\n",
              "\n",
              "// Listen for the clearing of the current output cell\n",
              "var outputEl = gd.closest('.output');\n",
              "if (outputEl) {{\n",
              "    x.observe(outputEl, {childList: true});\n",
              "}}\n",
              "\n",
              "                        })\n",
              "                };\n",
              "                \n",
              "            </script>\n",
              "        </div>\n",
              "</body>\n",
              "</html>"
            ]
          },
          "metadata": {
            "tags": []
          }
        }
      ]
    },
    {
      "cell_type": "markdown",
      "metadata": {
        "id": "6jK8nqyZBR77",
        "colab_type": "text"
      },
      "source": [
        "# 6.2 Finding avg. price of top car brands"
      ]
    },
    {
      "cell_type": "code",
      "metadata": {
        "id": "IACf0ODAJ9NH",
        "colab_type": "code",
        "colab": {
          "base_uri": "https://localhost:8080/",
          "height": 185
        },
        "outputId": "d342eca4-fbd2-456e-8c97-d8fc583b9184"
      },
      "source": [
        "#Average price among the top 10 car brands\n",
        "prices = df[['Make','Price']].loc[(df['Make'] == 'Chevrolet')|\n",
        "               (df['Make'] == 'Ford')|\n",
        "               (df['Make'] == 'Volkswagen')|\n",
        "               (df['Make'] == 'Toyota')|\n",
        "               (df['Make'] == 'Dodge')|\n",
        "               (df['Make'] == 'Nissan')|\n",
        "               (df['Make'] == 'GMC')|\n",
        "               (df['Make'] == 'Honda')|\n",
        "               (df['Make'] == 'Mazda')].groupby('Make').mean()\n",
        "print(prices)"
      ],
      "execution_count": 75,
      "outputs": [
        {
          "output_type": "stream",
          "text": [
            "                   Price\n",
            "Make                    \n",
            "Chevrolet   28546.168327\n",
            "Dodge       26178.358722\n",
            "GMC         33666.516199\n",
            "Honda       27038.467018\n",
            "Mazda       20628.445040\n",
            "Nissan      28559.636542\n",
            "Toyota      28759.360000\n",
            "Volkswagen  30449.461017\n"
          ],
          "name": "stdout"
        }
      ]
    },
    {
      "cell_type": "code",
      "metadata": {
        "id": "s_Bqu2H6AgON",
        "colab_type": "code",
        "colab": {
          "base_uri": "https://localhost:8080/",
          "height": 542
        },
        "outputId": "1ad92647-b6b1-49bf-a61a-c9bc2b598fac"
      },
      "source": [
        "#Graph of Average price among the top 10 car brands\n",
        "index = df.groupby(['Year']).mean()['Price'].index.tolist()\n",
        "mean_prices = df.groupby(['Year']).mean()['Price'].values.tolist()\n",
        "std_prices = df.groupby(['Year']).std()['Price'].values.tolist()\n",
        "\n",
        "\n",
        "price_per_year = pd.DataFrame(np.column_stack((mean_prices, std_prices)), columns=['Mean', 'Std'], index=index)\n",
        "\n",
        "\n",
        "fig = go.Figure()\n",
        "\n",
        "fig.add_trace(go.Scatter(x=index, y=price_per_year.Mean,\n",
        "                    mode='markers',\n",
        "                    name='Mean Price'))\n",
        "\n",
        "fig.add_trace(go.Scatter(x=index, y=price_per_year.Std,\n",
        "                    mode='markers',\n",
        "                    name='Std Price'))\n",
        "\n",
        "fig.update_layout(title=\"Average Price per Year\",\n",
        "                  xaxis_title=\"Year\",\n",
        "                  yaxis_title=\"Price\")\n",
        "\n",
        "fig.show()"
      ],
      "execution_count": 77,
      "outputs": [
        {
          "output_type": "display_data",
          "data": {
            "text/html": [
              "<html>\n",
              "<head><meta charset=\"utf-8\" /></head>\n",
              "<body>\n",
              "    <div>\n",
              "            <script src=\"https://cdnjs.cloudflare.com/ajax/libs/mathjax/2.7.5/MathJax.js?config=TeX-AMS-MML_SVG\"></script><script type=\"text/javascript\">if (window.MathJax) {MathJax.Hub.Config({SVG: {font: \"STIX-Web\"}});}</script>\n",
              "                <script type=\"text/javascript\">window.PlotlyConfig = {MathJaxConfig: 'local'};</script>\n",
              "        <script src=\"https://cdn.plot.ly/plotly-latest.min.js\"></script>    \n",
              "            <div id=\"23e2f593-d93c-498a-a8b3-20a0a061e7c2\" class=\"plotly-graph-div\" style=\"height:525px; width:100%;\"></div>\n",
              "            <script type=\"text/javascript\">\n",
              "                \n",
              "                    window.PLOTLYENV=window.PLOTLYENV || {};\n",
              "                    \n",
              "                if (document.getElementById(\"23e2f593-d93c-498a-a8b3-20a0a061e7c2\")) {\n",
              "                    Plotly.newPlot(\n",
              "                        '23e2f593-d93c-498a-a8b3-20a0a061e7c2',\n",
              "                        [{\"mode\": \"markers\", \"name\": \"Mean Price\", \"type\": \"scatter\", \"x\": [1994, 1995, 1996, 1997, 1998, 1999, 2000, 2001, 2002, 2003, 2004, 2005, 2006, 2007, 2008, 2009, 2010, 2011, 2012, 2013, 2014, 2015, 2016, 2017], \"y\": [2447.680412371134, 2692.597701149425, 2657.2758620689656, 3332.309523809524, 3113.990990990991, 3166.190476190476, 3229.546296296296, 23144.772413793104, 24469.768786127166, 24723.415384615386, 26668.755208333332, 26941.550561797754, 27711.677215189873, 27734.631756756757, 29184.301960784313, 31857.205035971223, 31795.129032258064, 34775.063829787236, 33601.63035019455, 35698.96428571428, 36052.72316384181, 36158.24572930355, 36985.83706070288, 37313.57142857143]}, {\"mode\": \"markers\", \"name\": \"Std Price\", \"type\": \"scatter\", \"x\": [1994, 1995, 1996, 1997, 1998, 1999, 2000, 2001, 2002, 2003, 2004, 2005, 2006, 2007, 2008, 2009, 2010, 2011, 2012, 2013, 2014, 2015, 2016, 2017], \"y\": [2679.2265307453627, 3192.719448340021, 2254.4234795931347, 5016.0812696196, 2819.0138427068155, 2117.4020765180953, 2182.437745241617, 8266.577284248659, 8218.4728355428, 7907.9627804432375, 9323.990528714292, 10579.583358783635, 11374.929234899351, 9037.66882700672, 9777.98378524549, 11120.024433996634, 11634.91378917015, 14087.232818364799, 13011.303113165453, 13464.70966213956, 12907.699723631593, 13343.77594560796, 13529.131345029336, 13358.415998215927]}],\n",
              "                        {\"template\": {\"data\": {\"bar\": [{\"error_x\": {\"color\": \"#2a3f5f\"}, \"error_y\": {\"color\": \"#2a3f5f\"}, \"marker\": {\"line\": {\"color\": \"#E5ECF6\", \"width\": 0.5}}, \"type\": \"bar\"}], \"barpolar\": [{\"marker\": {\"line\": {\"color\": \"#E5ECF6\", \"width\": 0.5}}, \"type\": \"barpolar\"}], \"carpet\": [{\"aaxis\": {\"endlinecolor\": \"#2a3f5f\", \"gridcolor\": \"white\", \"linecolor\": \"white\", \"minorgridcolor\": \"white\", \"startlinecolor\": \"#2a3f5f\"}, \"baxis\": {\"endlinecolor\": \"#2a3f5f\", \"gridcolor\": \"white\", \"linecolor\": \"white\", \"minorgridcolor\": \"white\", \"startlinecolor\": \"#2a3f5f\"}, \"type\": \"carpet\"}], \"choropleth\": [{\"colorbar\": {\"outlinewidth\": 0, \"ticks\": \"\"}, \"type\": \"choropleth\"}], \"contour\": [{\"colorbar\": {\"outlinewidth\": 0, \"ticks\": \"\"}, \"colorscale\": [[0.0, \"#0d0887\"], [0.1111111111111111, \"#46039f\"], [0.2222222222222222, \"#7201a8\"], [0.3333333333333333, \"#9c179e\"], [0.4444444444444444, \"#bd3786\"], [0.5555555555555556, \"#d8576b\"], [0.6666666666666666, \"#ed7953\"], [0.7777777777777778, \"#fb9f3a\"], [0.8888888888888888, \"#fdca26\"], [1.0, \"#f0f921\"]], \"type\": \"contour\"}], \"contourcarpet\": [{\"colorbar\": {\"outlinewidth\": 0, \"ticks\": \"\"}, \"type\": \"contourcarpet\"}], \"heatmap\": [{\"colorbar\": {\"outlinewidth\": 0, \"ticks\": \"\"}, \"colorscale\": [[0.0, \"#0d0887\"], [0.1111111111111111, \"#46039f\"], [0.2222222222222222, \"#7201a8\"], [0.3333333333333333, \"#9c179e\"], [0.4444444444444444, \"#bd3786\"], [0.5555555555555556, \"#d8576b\"], [0.6666666666666666, \"#ed7953\"], [0.7777777777777778, \"#fb9f3a\"], [0.8888888888888888, \"#fdca26\"], [1.0, \"#f0f921\"]], \"type\": \"heatmap\"}], \"heatmapgl\": [{\"colorbar\": {\"outlinewidth\": 0, \"ticks\": \"\"}, \"colorscale\": [[0.0, \"#0d0887\"], [0.1111111111111111, \"#46039f\"], [0.2222222222222222, \"#7201a8\"], [0.3333333333333333, \"#9c179e\"], [0.4444444444444444, \"#bd3786\"], [0.5555555555555556, \"#d8576b\"], [0.6666666666666666, \"#ed7953\"], [0.7777777777777778, \"#fb9f3a\"], [0.8888888888888888, \"#fdca26\"], [1.0, \"#f0f921\"]], \"type\": \"heatmapgl\"}], \"histogram\": [{\"marker\": {\"colorbar\": {\"outlinewidth\": 0, \"ticks\": \"\"}}, \"type\": \"histogram\"}], \"histogram2d\": [{\"colorbar\": {\"outlinewidth\": 0, \"ticks\": \"\"}, \"colorscale\": [[0.0, \"#0d0887\"], [0.1111111111111111, \"#46039f\"], [0.2222222222222222, \"#7201a8\"], [0.3333333333333333, \"#9c179e\"], [0.4444444444444444, \"#bd3786\"], [0.5555555555555556, \"#d8576b\"], [0.6666666666666666, \"#ed7953\"], [0.7777777777777778, \"#fb9f3a\"], [0.8888888888888888, \"#fdca26\"], [1.0, \"#f0f921\"]], \"type\": \"histogram2d\"}], \"histogram2dcontour\": [{\"colorbar\": {\"outlinewidth\": 0, \"ticks\": \"\"}, \"colorscale\": [[0.0, \"#0d0887\"], [0.1111111111111111, \"#46039f\"], [0.2222222222222222, \"#7201a8\"], [0.3333333333333333, \"#9c179e\"], [0.4444444444444444, \"#bd3786\"], [0.5555555555555556, \"#d8576b\"], [0.6666666666666666, \"#ed7953\"], [0.7777777777777778, \"#fb9f3a\"], [0.8888888888888888, \"#fdca26\"], [1.0, \"#f0f921\"]], \"type\": \"histogram2dcontour\"}], \"mesh3d\": [{\"colorbar\": {\"outlinewidth\": 0, \"ticks\": \"\"}, \"type\": \"mesh3d\"}], \"parcoords\": [{\"line\": {\"colorbar\": {\"outlinewidth\": 0, \"ticks\": \"\"}}, \"type\": \"parcoords\"}], \"pie\": [{\"automargin\": true, \"type\": \"pie\"}], \"scatter\": [{\"marker\": {\"colorbar\": {\"outlinewidth\": 0, \"ticks\": \"\"}}, \"type\": \"scatter\"}], \"scatter3d\": [{\"line\": {\"colorbar\": {\"outlinewidth\": 0, \"ticks\": \"\"}}, \"marker\": {\"colorbar\": {\"outlinewidth\": 0, \"ticks\": \"\"}}, \"type\": \"scatter3d\"}], \"scattercarpet\": [{\"marker\": {\"colorbar\": {\"outlinewidth\": 0, \"ticks\": \"\"}}, \"type\": \"scattercarpet\"}], \"scattergeo\": [{\"marker\": {\"colorbar\": {\"outlinewidth\": 0, \"ticks\": \"\"}}, \"type\": \"scattergeo\"}], \"scattergl\": [{\"marker\": {\"colorbar\": {\"outlinewidth\": 0, \"ticks\": \"\"}}, \"type\": \"scattergl\"}], \"scattermapbox\": [{\"marker\": {\"colorbar\": {\"outlinewidth\": 0, \"ticks\": \"\"}}, \"type\": \"scattermapbox\"}], \"scatterpolar\": [{\"marker\": {\"colorbar\": {\"outlinewidth\": 0, \"ticks\": \"\"}}, \"type\": \"scatterpolar\"}], \"scatterpolargl\": [{\"marker\": {\"colorbar\": {\"outlinewidth\": 0, \"ticks\": \"\"}}, \"type\": \"scatterpolargl\"}], \"scatterternary\": [{\"marker\": {\"colorbar\": {\"outlinewidth\": 0, \"ticks\": \"\"}}, \"type\": \"scatterternary\"}], \"surface\": [{\"colorbar\": {\"outlinewidth\": 0, \"ticks\": \"\"}, \"colorscale\": [[0.0, \"#0d0887\"], [0.1111111111111111, \"#46039f\"], [0.2222222222222222, \"#7201a8\"], [0.3333333333333333, \"#9c179e\"], [0.4444444444444444, \"#bd3786\"], [0.5555555555555556, \"#d8576b\"], [0.6666666666666666, \"#ed7953\"], [0.7777777777777778, \"#fb9f3a\"], [0.8888888888888888, \"#fdca26\"], [1.0, \"#f0f921\"]], \"type\": \"surface\"}], \"table\": [{\"cells\": {\"fill\": {\"color\": \"#EBF0F8\"}, \"line\": {\"color\": \"white\"}}, \"header\": {\"fill\": {\"color\": \"#C8D4E3\"}, \"line\": {\"color\": \"white\"}}, \"type\": \"table\"}]}, \"layout\": {\"annotationdefaults\": {\"arrowcolor\": \"#2a3f5f\", \"arrowhead\": 0, \"arrowwidth\": 1}, \"coloraxis\": {\"colorbar\": {\"outlinewidth\": 0, \"ticks\": \"\"}}, \"colorscale\": {\"diverging\": [[0, \"#8e0152\"], [0.1, \"#c51b7d\"], [0.2, \"#de77ae\"], [0.3, \"#f1b6da\"], [0.4, \"#fde0ef\"], [0.5, \"#f7f7f7\"], [0.6, \"#e6f5d0\"], [0.7, \"#b8e186\"], [0.8, \"#7fbc41\"], [0.9, \"#4d9221\"], [1, \"#276419\"]], \"sequential\": [[0.0, \"#0d0887\"], [0.1111111111111111, \"#46039f\"], [0.2222222222222222, \"#7201a8\"], [0.3333333333333333, \"#9c179e\"], [0.4444444444444444, \"#bd3786\"], [0.5555555555555556, \"#d8576b\"], [0.6666666666666666, \"#ed7953\"], [0.7777777777777778, \"#fb9f3a\"], [0.8888888888888888, \"#fdca26\"], [1.0, \"#f0f921\"]], \"sequentialminus\": [[0.0, \"#0d0887\"], [0.1111111111111111, \"#46039f\"], [0.2222222222222222, \"#7201a8\"], [0.3333333333333333, \"#9c179e\"], [0.4444444444444444, \"#bd3786\"], [0.5555555555555556, \"#d8576b\"], [0.6666666666666666, \"#ed7953\"], [0.7777777777777778, \"#fb9f3a\"], [0.8888888888888888, \"#fdca26\"], [1.0, \"#f0f921\"]]}, \"colorway\": [\"#636efa\", \"#EF553B\", \"#00cc96\", \"#ab63fa\", \"#FFA15A\", \"#19d3f3\", \"#FF6692\", \"#B6E880\", \"#FF97FF\", \"#FECB52\"], \"font\": {\"color\": \"#2a3f5f\"}, \"geo\": {\"bgcolor\": \"white\", \"lakecolor\": \"white\", \"landcolor\": \"#E5ECF6\", \"showlakes\": true, \"showland\": true, \"subunitcolor\": \"white\"}, \"hoverlabel\": {\"align\": \"left\"}, \"hovermode\": \"closest\", \"mapbox\": {\"style\": \"light\"}, \"paper_bgcolor\": \"white\", \"plot_bgcolor\": \"#E5ECF6\", \"polar\": {\"angularaxis\": {\"gridcolor\": \"white\", \"linecolor\": \"white\", \"ticks\": \"\"}, \"bgcolor\": \"#E5ECF6\", \"radialaxis\": {\"gridcolor\": \"white\", \"linecolor\": \"white\", \"ticks\": \"\"}}, \"scene\": {\"xaxis\": {\"backgroundcolor\": \"#E5ECF6\", \"gridcolor\": \"white\", \"gridwidth\": 2, \"linecolor\": \"white\", \"showbackground\": true, \"ticks\": \"\", \"zerolinecolor\": \"white\"}, \"yaxis\": {\"backgroundcolor\": \"#E5ECF6\", \"gridcolor\": \"white\", \"gridwidth\": 2, \"linecolor\": \"white\", \"showbackground\": true, \"ticks\": \"\", \"zerolinecolor\": \"white\"}, \"zaxis\": {\"backgroundcolor\": \"#E5ECF6\", \"gridcolor\": \"white\", \"gridwidth\": 2, \"linecolor\": \"white\", \"showbackground\": true, \"ticks\": \"\", \"zerolinecolor\": \"white\"}}, \"shapedefaults\": {\"line\": {\"color\": \"#2a3f5f\"}}, \"ternary\": {\"aaxis\": {\"gridcolor\": \"white\", \"linecolor\": \"white\", \"ticks\": \"\"}, \"baxis\": {\"gridcolor\": \"white\", \"linecolor\": \"white\", \"ticks\": \"\"}, \"bgcolor\": \"#E5ECF6\", \"caxis\": {\"gridcolor\": \"white\", \"linecolor\": \"white\", \"ticks\": \"\"}}, \"title\": {\"x\": 0.05}, \"xaxis\": {\"automargin\": true, \"gridcolor\": \"white\", \"linecolor\": \"white\", \"ticks\": \"\", \"title\": {\"standoff\": 15}, \"zerolinecolor\": \"white\", \"zerolinewidth\": 2}, \"yaxis\": {\"automargin\": true, \"gridcolor\": \"white\", \"linecolor\": \"white\", \"ticks\": \"\", \"title\": {\"standoff\": 15}, \"zerolinecolor\": \"white\", \"zerolinewidth\": 2}}}, \"title\": {\"text\": \"Average Price per Year\"}, \"xaxis\": {\"title\": {\"text\": \"Year\"}}, \"yaxis\": {\"title\": {\"text\": \"Price\"}}},\n",
              "                        {\"responsive\": true}\n",
              "                    ).then(function(){\n",
              "                            \n",
              "var gd = document.getElementById('23e2f593-d93c-498a-a8b3-20a0a061e7c2');\n",
              "var x = new MutationObserver(function (mutations, observer) {{\n",
              "        var display = window.getComputedStyle(gd).display;\n",
              "        if (!display || display === 'none') {{\n",
              "            console.log([gd, 'removed!']);\n",
              "            Plotly.purge(gd);\n",
              "            observer.disconnect();\n",
              "        }}\n",
              "}});\n",
              "\n",
              "// Listen for the removal of the full notebook cells\n",
              "var notebookContainer = gd.closest('#notebook-container');\n",
              "if (notebookContainer) {{\n",
              "    x.observe(notebookContainer, {childList: true});\n",
              "}}\n",
              "\n",
              "// Listen for the clearing of the current output cell\n",
              "var outputEl = gd.closest('.output');\n",
              "if (outputEl) {{\n",
              "    x.observe(outputEl, {childList: true});\n",
              "}}\n",
              "\n",
              "                        })\n",
              "                };\n",
              "                \n",
              "            </script>\n",
              "        </div>\n",
              "</body>\n",
              "</html>"
            ]
          },
          "metadata": {
            "tags": []
          }
        }
      ]
    },
    {
      "cell_type": "markdown",
      "metadata": {
        "id": "5LLLSz73BrsY",
        "colab_type": "text"
      },
      "source": [
        "# Step 7\n",
        "Plotting the correlation matrix and documenting the insights"
      ]
    },
    {
      "cell_type": "markdown",
      "metadata": {
        "id": "El33hoRGCugs",
        "colab_type": "text"
      },
      "source": [
        "# 7.1 Plotting the Correlation matrix"
      ]
    },
    {
      "cell_type": "code",
      "metadata": {
        "id": "uailETowKCJR",
        "colab_type": "code",
        "colab": {
          "base_uri": "https://localhost:8080/",
          "height": 254
        },
        "outputId": "99c596b8-ba2b-4261-9a9f-d5c4a006015e"
      },
      "source": [
        "#Correlation matrix\n",
        "df.corr()"
      ],
      "execution_count": 78,
      "outputs": [
        {
          "output_type": "execute_result",
          "data": {
            "text/html": [
              "<div>\n",
              "<style scoped>\n",
              "    .dataframe tbody tr th:only-of-type {\n",
              "        vertical-align: middle;\n",
              "    }\n",
              "\n",
              "    .dataframe tbody tr th {\n",
              "        vertical-align: top;\n",
              "    }\n",
              "\n",
              "    .dataframe thead th {\n",
              "        text-align: right;\n",
              "    }\n",
              "</style>\n",
              "<table border=\"1\" class=\"dataframe\">\n",
              "  <thead>\n",
              "    <tr style=\"text-align: right;\">\n",
              "      <th></th>\n",
              "      <th>Year</th>\n",
              "      <th>HP</th>\n",
              "      <th>Cylinders</th>\n",
              "      <th>MPG-H</th>\n",
              "      <th>MPG-C</th>\n",
              "      <th>Popularity</th>\n",
              "      <th>Price</th>\n",
              "    </tr>\n",
              "  </thead>\n",
              "  <tbody>\n",
              "    <tr>\n",
              "      <th>Year</th>\n",
              "      <td>1.000000</td>\n",
              "      <td>0.329259</td>\n",
              "      <td>-0.085730</td>\n",
              "      <td>0.357681</td>\n",
              "      <td>0.319505</td>\n",
              "      <td>0.208509</td>\n",
              "      <td>0.579331</td>\n",
              "    </tr>\n",
              "    <tr>\n",
              "      <th>HP</th>\n",
              "      <td>0.329259</td>\n",
              "      <td>1.000000</td>\n",
              "      <td>0.745470</td>\n",
              "      <td>-0.464840</td>\n",
              "      <td>-0.564341</td>\n",
              "      <td>0.099750</td>\n",
              "      <td>0.746944</td>\n",
              "    </tr>\n",
              "    <tr>\n",
              "      <th>Cylinders</th>\n",
              "      <td>-0.085730</td>\n",
              "      <td>0.745470</td>\n",
              "      <td>1.000000</td>\n",
              "      <td>-0.690858</td>\n",
              "      <td>-0.744093</td>\n",
              "      <td>0.019341</td>\n",
              "      <td>0.405795</td>\n",
              "    </tr>\n",
              "    <tr>\n",
              "      <th>MPG-H</th>\n",
              "      <td>0.357681</td>\n",
              "      <td>-0.464840</td>\n",
              "      <td>-0.690858</td>\n",
              "      <td>1.000000</td>\n",
              "      <td>0.937103</td>\n",
              "      <td>0.095116</td>\n",
              "      <td>-0.134963</td>\n",
              "    </tr>\n",
              "    <tr>\n",
              "      <th>MPG-C</th>\n",
              "      <td>0.319505</td>\n",
              "      <td>-0.564341</td>\n",
              "      <td>-0.744093</td>\n",
              "      <td>0.937103</td>\n",
              "      <td>1.000000</td>\n",
              "      <td>0.084180</td>\n",
              "      <td>-0.211754</td>\n",
              "    </tr>\n",
              "    <tr>\n",
              "      <th>Popularity</th>\n",
              "      <td>0.208509</td>\n",
              "      <td>0.099750</td>\n",
              "      <td>0.019341</td>\n",
              "      <td>0.095116</td>\n",
              "      <td>0.084180</td>\n",
              "      <td>1.000000</td>\n",
              "      <td>0.114641</td>\n",
              "    </tr>\n",
              "    <tr>\n",
              "      <th>Price</th>\n",
              "      <td>0.579331</td>\n",
              "      <td>0.746944</td>\n",
              "      <td>0.405795</td>\n",
              "      <td>-0.134963</td>\n",
              "      <td>-0.211754</td>\n",
              "      <td>0.114641</td>\n",
              "      <td>1.000000</td>\n",
              "    </tr>\n",
              "  </tbody>\n",
              "</table>\n",
              "</div>"
            ],
            "text/plain": [
              "                Year        HP  Cylinders  ...     MPG-C  Popularity     Price\n",
              "Year        1.000000  0.329259  -0.085730  ...  0.319505    0.208509  0.579331\n",
              "HP          0.329259  1.000000   0.745470  ... -0.564341    0.099750  0.746944\n",
              "Cylinders  -0.085730  0.745470   1.000000  ... -0.744093    0.019341  0.405795\n",
              "MPG-H       0.357681 -0.464840  -0.690858  ...  0.937103    0.095116 -0.134963\n",
              "MPG-C       0.319505 -0.564341  -0.744093  ...  1.000000    0.084180 -0.211754\n",
              "Popularity  0.208509  0.099750   0.019341  ...  0.084180    1.000000  0.114641\n",
              "Price       0.579331  0.746944   0.405795  ... -0.211754    0.114641  1.000000\n",
              "\n",
              "[7 rows x 7 columns]"
            ]
          },
          "metadata": {
            "tags": []
          },
          "execution_count": 78
        }
      ]
    },
    {
      "cell_type": "code",
      "metadata": {
        "id": "7cCAackDKFX3",
        "colab_type": "code",
        "colab": {
          "base_uri": "https://localhost:8080/",
          "height": 343
        },
        "outputId": "d7b579aa-f0ef-4e6d-8b06-091fc5385529"
      },
      "source": [
        "#Plot heatmap for different columns\n",
        "\n",
        "plt.figure(figsize=(10,5))\n",
        "c = df.corr()\n",
        "sns.heatmap(c, cmap=plt.cm.gist_heat, annot=True )"
      ],
      "execution_count": 82,
      "outputs": [
        {
          "output_type": "execute_result",
          "data": {
            "text/plain": [
              "<matplotlib.axes._subplots.AxesSubplot at 0x7f40262b7e48>"
            ]
          },
          "metadata": {
            "tags": []
          },
          "execution_count": 82
        },
        {
          "output_type": "display_data",
          "data": {
            "image/png": "[encoded data removed]",
            "text/plain": [
              "<Figure size 720x360 with 2 Axes>"
            ]
          },
          "metadata": {
            "tags": [],
            "needs_background": "light"
          }
        }
      ]
    },
    {
      "cell_type": "markdown",
      "metadata": {
        "id": "hRRX-iX-C-Yp",
        "colab_type": "text"
      },
      "source": [
        "# Documentation Insights"
      ]
    },
    {
      "cell_type": "markdown",
      "metadata": {
        "id": "vTjp5ed9DDLS",
        "colab_type": "text"
      },
      "source": [
        "From the above correlation matrix we see that-:\n",
        "\n",
        "1) We conclude that HP and Cylinders both are correlated positively with each other\n",
        "\n",
        "2) Price is correlated with Year and HP positively\n",
        "\n",
        "3) MPG-C and MPG-H both have very less correlation in each other\n",
        "\n",
        "4) MPG-C and MPG-H both have strong negative correlation with Cylinders\n",
        "\n",
        "5) Popularity is not correlated with anything"
      ]
    },
    {
      "cell_type": "markdown",
      "metadata": {
        "id": "eZZciAzyD7J4",
        "colab_type": "text"
      },
      "source": [
        "# Step 8\n",
        "Performing EDA and plotting different graphs and document the findings"
      ]
    },
    {
      "cell_type": "markdown",
      "metadata": {
        "id": "kSCNiC11ESZM",
        "colab_type": "text"
      },
      "source": [
        "# 8.1 plotting Graph of various column with price"
      ]
    },
    {
      "cell_type": "code",
      "metadata": {
        "id": "1P4DbfKAKKcX",
        "colab_type": "code",
        "colab": {
          "base_uri": "https://localhost:8080/",
          "height": 627
        },
        "outputId": "dc7e2eb4-c36e-4c8f-c35d-87e098a4ab21"
      },
      "source": [
        "#Graph between Price and Year\n",
        "fig, axis=plt.subplots(figsize=(10,10))\n",
        "axis.scatter(df[\"Year\"], df[\"Price\"])\n",
        "plt.title(\"Scatter plot between Price and Year\")\n",
        "axis.set_xlabel(\"Year\")\n",
        "axis.set_ylabel(\"Price\")\n",
        "plt.show()"
      ],
      "execution_count": 84,
      "outputs": [
        {
          "output_type": "display_data",
          "data": {
            "image/png": "[encoded data removed]",
            "text/plain": [
              "<Figure size 720x720 with 1 Axes>"
            ]
          },
          "metadata": {
            "tags": [],
            "needs_background": "light"
          }
        }
      ]
    },
    {
      "cell_type": "code",
      "metadata": {
        "id": "GFyJSMqMFyzo",
        "colab_type": "code",
        "colab": {
          "base_uri": "https://localhost:8080/",
          "height": 627
        },
        "outputId": "36111a17-31d9-4990-df9c-4000e85bb40a"
      },
      "source": [
        "#Graph between Price and HP\n",
        "fig, axis=plt.subplots(figsize=(10,10))\n",
        "axis.scatter(df[\"HP\"], df[\"Price\"])\n",
        "plt.title(\"Scatter plot between Price and HP\")\n",
        "axis.set_xlabel(\"HP\")\n",
        "axis.set_ylabel(\"Price\")\n",
        "plt.show()"
      ],
      "execution_count": 90,
      "outputs": [
        {
          "output_type": "display_data",
          "data": {
            "image/png": "[encoded data removed]",
            "text/plain": [
              "<Figure size 720x720 with 1 Axes>"
            ]
          },
          "metadata": {
            "tags": [],
            "needs_background": "light"
          }
        }
      ]
    },
    {
      "cell_type": "code",
      "metadata": {
        "id": "soYQ9QPTF0cf",
        "colab_type": "code",
        "colab": {
          "base_uri": "https://localhost:8080/",
          "height": 627
        },
        "outputId": "8d8cf82e-ee2d-43d8-811d-af99117d9b2c"
      },
      "source": [
        "#Graph between Price and  Cylinders\n",
        "fig, axis=plt.subplots(figsize=(10,10))\n",
        "axis.scatter(df[\"Cylinders\"], df[\"Price\"])\n",
        "plt.title(\"Scatter plot between Price and Cylinders\")\n",
        "axis.set_xlabel(\"Cylinders\")\n",
        "axis.set_ylabel(\"Price\")\n",
        "plt.show()"
      ],
      "execution_count": 95,
      "outputs": [
        {
          "output_type": "display_data",
          "data": {
            "image/png": "[encoded data removed]",
            "text/plain": [
              "<Figure size 720x720 with 1 Axes>"
            ]
          },
          "metadata": {
            "tags": [],
            "needs_background": "light"
          }
        }
      ]
    },
    {
      "cell_type": "code",
      "metadata": {
        "id": "rBbZYSEwF59V",
        "colab_type": "code",
        "colab": {
          "base_uri": "https://localhost:8080/",
          "height": 627
        },
        "outputId": "41bba0e4-cb97-4614-f37e-809a53b3c228"
      },
      "source": [
        "#Graph between Price and MPG-H\n",
        "fig, axis=plt.subplots(figsize=(10,10))\n",
        "axis.scatter(df[\"MPG-H\"], df[\"Price\"])\n",
        "plt.title(\"Scatter plot between Price and MPG-H\")\n",
        "axis.set_xlabel(\"MPG-H\")\n",
        "axis.set_ylabel(\"Price\")\n",
        "plt.show()"
      ],
      "execution_count": 92,
      "outputs": [
        {
          "output_type": "display_data",
          "data": {
            "image/png": "[encoded data removed]",
            "text/plain": [
              "<Figure size 720x720 with 1 Axes>"
            ]
          },
          "metadata": {
            "tags": [],
            "needs_background": "light"
          }
        }
      ]
    },
    {
      "cell_type": "code",
      "metadata": {
        "id": "JAqemA-mF-BW",
        "colab_type": "code",
        "colab": {
          "base_uri": "https://localhost:8080/",
          "height": 627
        },
        "outputId": "59b53fd0-8e05-4db0-bf71-db606dac7b03"
      },
      "source": [
        "#Graph between Price and MPG-C\n",
        "fig, axis=plt.subplots(figsize=(10,10))\n",
        "axis.scatter(df[\"MPG-C\"], df[\"Price\"])\n",
        "plt.title(\"Scatter plot between Price and MPG-C\")\n",
        "axis.set_xlabel(\"MPG-C\")\n",
        "axis.set_ylabel(\"Price\")\n",
        "plt.show()"
      ],
      "execution_count": 93,
      "outputs": [
        {
          "output_type": "display_data",
          "data": {
            "image/png": "[encoded data removed]",
            "text/plain": [
              "<Figure size 720x720 with 1 Axes>"
            ]
          },
          "metadata": {
            "tags": [],
            "needs_background": "light"
          }
        }
      ]
    },
    {
      "cell_type": "code",
      "metadata": {
        "id": "5gMTyippGB8p",
        "colab_type": "code",
        "colab": {
          "base_uri": "https://localhost:8080/",
          "height": 627
        },
        "outputId": "5658f497-7e78-4e03-8fc7-91d7d8b4f614"
      },
      "source": [
        "#Graph between Price and Popularity\n",
        "fig, axis=plt.subplots(figsize=(10,10))\n",
        "axis.scatter(df[\"Popularity\"], df[\"Price\"])\n",
        "plt.title(\"Scatter plot between Price and Poluparity\")\n",
        "axis.set_xlabel(\"Popularity\")\n",
        "axis.set_ylabel(\"Price\")\n",
        "plt.show()"
      ],
      "execution_count": 94,
      "outputs": [
        {
          "output_type": "display_data",
          "data": {
            "image/png": "[encoded data removed]",
            "text/plain": [
              "<Figure size 720x720 with 1 Axes>"
            ]
          },
          "metadata": {
            "tags": [],
            "needs_background": "light"
          }
        }
      ]
    },
    {
      "cell_type": "markdown",
      "metadata": {
        "id": "EtEseggSIoTx",
        "colab_type": "text"
      },
      "source": [
        "# Documentation Findings"
      ]
    },
    {
      "cell_type": "markdown",
      "metadata": {
        "id": "zMnV4XMGGLLH",
        "colab_type": "text"
      },
      "source": [
        "After plotting graph between Year and Price we conclude that:-\n",
        "\n",
        "As Year increase Price also increase\n",
        "\n",
        "As value of HP increase Price will also increase\n",
        "\n",
        "Price will decrease with the value of MPG-H and MPG-C\n",
        "\n",
        "Popularity is not affecting the Price"
      ]
    },
    {
      "cell_type": "markdown",
      "metadata": {
        "id": "HLAAKvRHIyll",
        "colab_type": "text"
      },
      "source": [
        "# Step 9\n",
        "Splitting the dataset into 75 and 25 ratio and building a machine learning model with Price as the target variable."
      ]
    },
    {
      "cell_type": "markdown",
      "metadata": {
        "id": "ygU1p6VnK5MH",
        "colab_type": "text"
      },
      "source": [
        "# 9.1 Splitting the dataset for training and testing"
      ]
    },
    {
      "cell_type": "code",
      "metadata": {
        "id": "2szot0fPKQEn",
        "colab_type": "code",
        "colab": {}
      },
      "source": [
        "from sklearn import datasets, linear_model\n",
        "from sklearn.model_selection import train_test_split\n",
        "from sklearn.preprocessing import StandardScaler\n",
        "from sklearn import metrics\n",
        "from sklearn.linear_model import LinearRegression"
      ],
      "execution_count": 98,
      "outputs": []
    },
    {
      "cell_type": "code",
      "metadata": {
        "id": "ZRH0MXGwI7gY",
        "colab_type": "code",
        "colab": {}
      },
      "source": [
        "x = df[['Popularity', 'Year', 'HP', 'Cylinders', 'MPG-H', 'MPG-C']].values #independent variable\n",
        "y = df['Price'].values #dependent variable"
      ],
      "execution_count": 99,
      "outputs": []
    },
    {
      "cell_type": "code",
      "metadata": {
        "id": "YnhKknF7JScC",
        "colab_type": "code",
        "colab": {}
      },
      "source": [
        "sc_x = StandardScaler()\n",
        "sc_y = StandardScaler()\n",
        "x = sc_x.fit_transform(x)\n",
        "y = sc_y.fit_transform(y.reshape(-1,1))"
      ],
      "execution_count": 100,
      "outputs": []
    },
    {
      "cell_type": "code",
      "metadata": {
        "id": "LL6xHbP9JTAA",
        "colab_type": "code",
        "colab": {}
      },
      "source": [
        "#Splitting the dataset into the training set and test set\n",
        "x_train,x_test,y_train,y_test = train_test_split(x,y,test_size = 0.25, random_state = 0)"
      ],
      "execution_count": 102,
      "outputs": []
    },
    {
      "cell_type": "markdown",
      "metadata": {
        "id": "mcrdfVzcLB1g",
        "colab_type": "text"
      },
      "source": [
        "# 9.2 Building ML Model:LinearRegression"
      ]
    },
    {
      "cell_type": "code",
      "metadata": {
        "id": "Xf4j-NljJWSA",
        "colab_type": "code",
        "colab": {
          "base_uri": "https://localhost:8080/",
          "height": 34
        },
        "outputId": "62930e0a-a459-4e1a-c69b-aa6778ae97dd"
      },
      "source": [
        "#Fitting multiple linear regression to the training set\n",
        "regressor = LinearRegression()\n",
        "regressor.fit(x_train, y_train)"
      ],
      "execution_count": 103,
      "outputs": [
        {
          "output_type": "execute_result",
          "data": {
            "text/plain": [
              "LinearRegression(copy_X=True, fit_intercept=True, n_jobs=None, normalize=False)"
            ]
          },
          "metadata": {
            "tags": []
          },
          "execution_count": 103
        }
      ]
    },
    {
      "cell_type": "code",
      "metadata": {
        "id": "HivUX5dtJaKn",
        "colab_type": "code",
        "colab": {
          "base_uri": "https://localhost:8080/",
          "height": 611
        },
        "outputId": "e913cbd9-4246-4f08-8063-d44cb05fad32"
      },
      "source": [
        "#Predicting the test set results\n",
        "y_pred = regressor.predict(x_test)\n",
        "plt.figure(figsize=(10,10))\n",
        "plt.scatter(y_test,y_pred)"
      ],
      "execution_count": 104,
      "outputs": [
        {
          "output_type": "execute_result",
          "data": {
            "text/plain": [
              "<matplotlib.collections.PathCollection at 0x7f4022149898>"
            ]
          },
          "metadata": {
            "tags": []
          },
          "execution_count": 104
        },
        {
          "output_type": "display_data",
          "data": {
            "image/png": "[encoded data removed]",
            "text/plain": [
              "<Figure size 720x720 with 1 Axes>"
            ]
          },
          "metadata": {
            "tags": [],
            "needs_background": "light"
          }
        }
      ]
    },
    {
      "cell_type": "code",
      "metadata": {
        "id": "S9kmCLQLJdkz",
        "colab_type": "code",
        "colab": {
          "base_uri": "https://localhost:8080/",
          "height": 614
        },
        "outputId": "c2a76034-9537-4165-a22a-a7c70bef0f24"
      },
      "source": [
        "plt.figure(figsize=(10,10))\n",
        "sns.distplot((y_test-y_pred),bins=100)"
      ],
      "execution_count": 106,
      "outputs": [
        {
          "output_type": "execute_result",
          "data": {
            "text/plain": [
              "<matplotlib.axes._subplots.AxesSubplot at 0x7f4022109898>"
            ]
          },
          "metadata": {
            "tags": []
          },
          "execution_count": 106
        },
        {
          "output_type": "display_data",
          "data": {
            "image/png": "[encoded data removed]",
            "text/plain": [
              "<Figure size 720x720 with 1 Axes>"
            ]
          },
          "metadata": {
            "tags": [],
            "needs_background": "light"
          }
        }
      ]
    },
    {
      "cell_type": "code",
      "metadata": {
        "id": "3YUEFLJsJgYJ",
        "colab_type": "code",
        "colab": {
          "base_uri": "https://localhost:8080/",
          "height": 67
        },
        "outputId": "4ec54e29-9ef5-4a24-ec47-aca604272f53"
      },
      "source": [
        "#Finding the value of MAE, RMSE and R-Square\n",
        "print('Mean Absolute Error:', metrics.mean_absolute_error(y_test, y_pred))  \n",
        "print('Root Mean Squared Error:', np.sqrt(metrics.mean_squared_error(y_test, y_pred)))\n",
        "print('R2 Score:', metrics.r2_score(y_test, y_pred))"
      ],
      "execution_count": 108,
      "outputs": [
        {
          "output_type": "stream",
          "text": [
            "Mean Absolute Error: 0.42672578412126283\n",
            "Root Mean Squared Error: 0.5538037917381192\n",
            "R2 Score: 0.6785482625982548\n"
          ],
          "name": "stdout"
        }
      ]
    },
    {
      "cell_type": "markdown",
      "metadata": {
        "id": "wFQ4ZEUlLU5w",
        "colab_type": "text"
      },
      "source": [
        "# Step 10\n",
        "Trying different algorithms and checking their performance over metrics like R_square, RMSE, MAE etc and document your findings"
      ]
    },
    {
      "cell_type": "markdown",
      "metadata": {
        "id": "jH6R21-GLrHr",
        "colab_type": "text"
      },
      "source": [
        "# 10.1 Polynomial Regression"
      ]
    },
    {
      "cell_type": "code",
      "metadata": {
        "id": "8TbbOHeWL1_g",
        "colab_type": "code",
        "colab": {
          "base_uri": "https://localhost:8080/",
          "height": 34
        },
        "outputId": "1a3848b1-ff4b-48bc-c5b7-3cdcff33c7fa"
      },
      "source": [
        "#Input polynomial regression to the dataset\n",
        "from sklearn.preprocessing import PolynomialFeatures\n",
        "poly_reg = PolynomialFeatures(degree = 4)\n",
        "x_poly = poly_reg.fit_transform(x_train)\n",
        "poly_reg.fit(x_poly, y_train)\n",
        "lin_reg_2 = LinearRegression()\n",
        "lin_reg_2.fit(x_poly, y_train)"
      ],
      "execution_count": 109,
      "outputs": [
        {
          "output_type": "execute_result",
          "data": {
            "text/plain": [
              "LinearRegression(copy_X=True, fit_intercept=True, n_jobs=None, normalize=False)"
            ]
          },
          "metadata": {
            "tags": []
          },
          "execution_count": 109
        }
      ]
    },
    {
      "cell_type": "code",
      "metadata": {
        "id": "95tsvhvZL7eM",
        "colab_type": "code",
        "colab": {
          "base_uri": "https://localhost:8080/",
          "height": 611
        },
        "outputId": "5fec3617-fba0-44c7-c0f0-b15a3da36f62"
      },
      "source": [
        "#Predicting a new result using polynomial regression\n",
        "y_pred=lin_reg_2.predict(poly_reg.fit_transform(x_test))\n",
        "plt.figure(figsize=(10,10))\n",
        "plt.scatter(y_test,y_pred)"
      ],
      "execution_count": 110,
      "outputs": [
        {
          "output_type": "execute_result",
          "data": {
            "text/plain": [
              "<matplotlib.collections.PathCollection at 0x7f4025bf64a8>"
            ]
          },
          "metadata": {
            "tags": []
          },
          "execution_count": 110
        },
        {
          "output_type": "display_data",
          "data": {
            "image/png": "[encoded data removed]",
            "text/plain": [
              "<Figure size 720x720 with 1 Axes>"
            ]
          },
          "metadata": {
            "tags": [],
            "needs_background": "light"
          }
        }
      ]
    },
    {
      "cell_type": "code",
      "metadata": {
        "id": "IY78zd6HL-Rz",
        "colab_type": "code",
        "colab": {
          "base_uri": "https://localhost:8080/",
          "height": 611
        },
        "outputId": "31b8c658-68a6-43c0-84a0-726730280787"
      },
      "source": [
        "plt.figure(figsize=(10,10))\n",
        "sns.distplot((y_test-y_pred),bins=100)"
      ],
      "execution_count": 112,
      "outputs": [
        {
          "output_type": "execute_result",
          "data": {
            "text/plain": [
              "<matplotlib.axes._subplots.AxesSubplot at 0x7f4025c96d30>"
            ]
          },
          "metadata": {
            "tags": []
          },
          "execution_count": 112
        },
        {
          "output_type": "display_data",
          "data": {
            "image/png": "[encoded data removed]",
            "text/plain": [
              "<Figure size 720x720 with 1 Axes>"
            ]
          },
          "metadata": {
            "tags": [],
            "needs_background": "light"
          }
        }
      ]
    },
    {
      "cell_type": "code",
      "metadata": {
        "id": "aZXXdDUIMDjc",
        "colab_type": "code",
        "colab": {
          "base_uri": "https://localhost:8080/",
          "height": 67
        },
        "outputId": "227ba39b-2704-47aa-b640-af80d514a664"
      },
      "source": [
        "#Finding the value of MAE, RMSE and R-Square\n",
        "print('Mean Absolute Error:', metrics.mean_absolute_error(y_test, y_pred))  \n",
        "print('Root Mean Squared Error:', np.sqrt(metrics.mean_squared_error(y_test, y_pred)))\n",
        "print('R2 Score:', metrics.r2_score(y_test, y_pred))"
      ],
      "execution_count": 114,
      "outputs": [
        {
          "output_type": "stream",
          "text": [
            "Mean Absolute Error: 0.3187818810840435\n",
            "Root Mean Squared Error: 0.42669298112205484\n",
            "R2 Score: 0.8091751517974815\n"
          ],
          "name": "stdout"
        }
      ]
    },
    {
      "cell_type": "markdown",
      "metadata": {
        "id": "hnUoY9C_Maeg",
        "colab_type": "text"
      },
      "source": [
        "# 10.2 Support Vector Machine"
      ]
    },
    {
      "cell_type": "code",
      "metadata": {
        "id": "PiB7wo2XMkiP",
        "colab_type": "code",
        "colab": {
          "base_uri": "https://localhost:8080/",
          "height": 118
        },
        "outputId": "d7bbdd65-c183-4715-961e-556d5a9afcb2"
      },
      "source": [
        "#Insert SVR to the dataset\n",
        "from sklearn.svm import SVR\n",
        "regressor = SVR(kernel = 'rbf')\n",
        "regressor.fit(x_train, y_train)"
      ],
      "execution_count": 115,
      "outputs": [
        {
          "output_type": "stream",
          "text": [
            "/usr/local/lib/python3.6/dist-packages/sklearn/utils/validation.py:760: DataConversionWarning:\n",
            "\n",
            "A column-vector y was passed when a 1d array was expected. Please change the shape of y to (n_samples, ), for example using ravel().\n",
            "\n"
          ],
          "name": "stderr"
        },
        {
          "output_type": "execute_result",
          "data": {
            "text/plain": [
              "SVR(C=1.0, cache_size=200, coef0=0.0, degree=3, epsilon=0.1, gamma='scale',\n",
              "    kernel='rbf', max_iter=-1, shrinking=True, tol=0.001, verbose=False)"
            ]
          },
          "metadata": {
            "tags": []
          },
          "execution_count": 115
        }
      ]
    },
    {
      "cell_type": "code",
      "metadata": {
        "id": "UNajx8itMlLN",
        "colab_type": "code",
        "colab": {
          "base_uri": "https://localhost:8080/",
          "height": 611
        },
        "outputId": "a00fe9b6-0758-4e83-bf8f-faa931a2f7d2"
      },
      "source": [
        "#Predicting a new result using SVR\n",
        "y_pred = regressor.predict(x_test)\n",
        "plt.figure(figsize=(10,10))\n",
        "plt.scatter(y_test,y_pred)"
      ],
      "execution_count": 116,
      "outputs": [
        {
          "output_type": "execute_result",
          "data": {
            "text/plain": [
              "<matplotlib.collections.PathCollection at 0x7f4025fa3b00>"
            ]
          },
          "metadata": {
            "tags": []
          },
          "execution_count": 116
        },
        {
          "output_type": "display_data",
          "data": {
            "image/png": "[encoded data removed]",
            "text/plain": [
              "<Figure size 720x720 with 1 Axes>"
            ]
          },
          "metadata": {
            "tags": [],
            "needs_background": "light"
          }
        }
      ]
    },
    {
      "cell_type": "code",
      "metadata": {
        "id": "nbH8LdPHMlrT",
        "colab_type": "code",
        "colab": {
          "base_uri": "https://localhost:8080/",
          "height": 611
        },
        "outputId": "1d0a701b-68fa-4687-da54-409b62f09234"
      },
      "source": [
        "plt.figure(figsize=(10,10))\n",
        "sns.distplot((y_test-y_pred),bins=100)"
      ],
      "execution_count": 117,
      "outputs": [
        {
          "output_type": "execute_result",
          "data": {
            "text/plain": [
              "<matplotlib.axes._subplots.AxesSubplot at 0x7f40291a0be0>"
            ]
          },
          "metadata": {
            "tags": []
          },
          "execution_count": 117
        },
        {
          "output_type": "display_data",
          "data": {
            "image/png": "[encoded data removed]",
            "text/plain": [
              "<Figure size 720x720 with 1 Axes>"
            ]
          },
          "metadata": {
            "tags": [],
            "needs_background": "light"
          }
        }
      ]
    },
    {
      "cell_type": "code",
      "metadata": {
        "id": "R0X5Vkp5MmOC",
        "colab_type": "code",
        "colab": {
          "base_uri": "https://localhost:8080/",
          "height": 67
        },
        "outputId": "9f712d3f-8a4f-4605-a3da-23655f5208e8"
      },
      "source": [
        "#Find value MAE, RMSE and R-Square using SVR\n",
        "print('Mean Absolute Error:', metrics.mean_absolute_error(y_test, y_pred))  \n",
        "print('Root Mean Squared Error:', np.sqrt(metrics.mean_squared_error(y_test, y_pred)))\n",
        "print('R2 Score:', metrics.r2_score(y_test, y_pred))"
      ],
      "execution_count": 119,
      "outputs": [
        {
          "output_type": "stream",
          "text": [
            "Mean Absolute Error: 0.3041942030626726\n",
            "Root Mean Squared Error: 0.4264656506365493\n",
            "R2 Score: 0.8093784302734826\n"
          ],
          "name": "stdout"
        }
      ]
    },
    {
      "cell_type": "markdown",
      "metadata": {
        "id": "qPwQErByNC2L",
        "colab_type": "text"
      },
      "source": [
        "# 10.3 Random Forest"
      ]
    },
    {
      "cell_type": "code",
      "metadata": {
        "id": "yu1qHdEvNGXK",
        "colab_type": "code",
        "colab": {
          "base_uri": "https://localhost:8080/",
          "height": 202
        },
        "outputId": "13acb146-0023-4d24-ce0f-23a88d2ff145"
      },
      "source": [
        "#Input Random Forest Regression to the dataset\n",
        "from sklearn.ensemble import RandomForestRegressor\n",
        "regressor = RandomForestRegressor(n_estimators = 300, random_state = 0)\n",
        "regressor.fit(x_train, y_train)"
      ],
      "execution_count": 120,
      "outputs": [
        {
          "output_type": "stream",
          "text": [
            "/usr/local/lib/python3.6/dist-packages/ipykernel_launcher.py:4: DataConversionWarning:\n",
            "\n",
            "A column-vector y was passed when a 1d array was expected. Please change the shape of y to (n_samples,), for example using ravel().\n",
            "\n"
          ],
          "name": "stderr"
        },
        {
          "output_type": "execute_result",
          "data": {
            "text/plain": [
              "RandomForestRegressor(bootstrap=True, ccp_alpha=0.0, criterion='mse',\n",
              "                      max_depth=None, max_features='auto', max_leaf_nodes=None,\n",
              "                      max_samples=None, min_impurity_decrease=0.0,\n",
              "                      min_impurity_split=None, min_samples_leaf=1,\n",
              "                      min_samples_split=2, min_weight_fraction_leaf=0.0,\n",
              "                      n_estimators=300, n_jobs=None, oob_score=False,\n",
              "                      random_state=0, verbose=0, warm_start=False)"
            ]
          },
          "metadata": {
            "tags": []
          },
          "execution_count": 120
        }
      ]
    },
    {
      "cell_type": "code",
      "metadata": {
        "id": "P-pxTQbgNHGq",
        "colab_type": "code",
        "colab": {
          "base_uri": "https://localhost:8080/",
          "height": 611
        },
        "outputId": "b2b7ba85-c207-426a-f807-fe7df154999e"
      },
      "source": [
        "#Predict result using Random Forest Regression\n",
        "y_pred = regressor.predict(x_test)\n",
        "plt.figure(figsize=(10,10))\n",
        "plt.scatter(y_test,y_pred)"
      ],
      "execution_count": 122,
      "outputs": [
        {
          "output_type": "execute_result",
          "data": {
            "text/plain": [
              "<matplotlib.collections.PathCollection at 0x7f4028d4bfd0>"
            ]
          },
          "metadata": {
            "tags": []
          },
          "execution_count": 122
        },
        {
          "output_type": "display_data",
          "data": {
            "image/png": "[encoded data removed]",
            "text/plain": [
              "<Figure size 720x720 with 1 Axes>"
            ]
          },
          "metadata": {
            "tags": [],
            "needs_background": "light"
          }
        }
      ]
    },
    {
      "cell_type": "code",
      "metadata": {
        "id": "cOoRMqDqNHkx",
        "colab_type": "code",
        "colab": {
          "base_uri": "https://localhost:8080/",
          "height": 611
        },
        "outputId": "57f4d47f-e93e-4285-e7a0-47490c57f207"
      },
      "source": [
        "plt.figure(figsize=(10,10))\n",
        "sns.distplot((y_test-y_pred),bins=100)"
      ],
      "execution_count": 123,
      "outputs": [
        {
          "output_type": "execute_result",
          "data": {
            "text/plain": [
              "<matplotlib.axes._subplots.AxesSubplot at 0x7f4028e6beb8>"
            ]
          },
          "metadata": {
            "tags": []
          },
          "execution_count": 123
        },
        {
          "output_type": "display_data",
          "data": {
            "image/png": "[encoded data removed]",
            "text/plain": [
              "<Figure size 720x720 with 1 Axes>"
            ]
          },
          "metadata": {
            "tags": [],
            "needs_background": "light"
          }
        }
      ]
    },
    {
      "cell_type": "code",
      "metadata": {
        "id": "XqdeBPWINUsV",
        "colab_type": "code",
        "colab": {
          "base_uri": "https://localhost:8080/",
          "height": 67
        },
        "outputId": "21b68e5b-f2bd-4451-af24-7a902c19f943"
      },
      "source": [
        "#Find values of MAE, RMSE and R-Square for Random Forest Regression\n",
        "print('Mean Absolute Error:', metrics.mean_absolute_error(y_test, y_pred))  \n",
        "print('Root Mean Squared Error:', np.sqrt(metrics.mean_squared_error(y_test, y_pred)))\n",
        "print('R2 Score:', metrics.r2_score(y_test, y_pred))"
      ],
      "execution_count": 124,
      "outputs": [
        {
          "output_type": "stream",
          "text": [
            "Mean Absolute Error: 0.18408317521281137\n",
            "Root Mean Squared Error: 0.25687304585334214\n",
            "R2 Score: 0.9308422272364935\n"
          ],
          "name": "stdout"
        }
      ]
    }
  ]
}